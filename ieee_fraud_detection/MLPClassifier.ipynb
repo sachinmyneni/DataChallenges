{
 "cells": [
  {
   "cell_type": "code",
   "execution_count": 1,
   "metadata": {},
   "outputs": [],
   "source": [
    "import pandas as pd\n",
    "import numpy as np\n",
    "import re\n",
    "import gc\n",
    "import pickle\n",
    "import matplotlib.pyplot as plt\n",
    "from sklearn.neural_network import MLPClassifier\n",
    "from sklearn.model_selection import cross_val_score, train_test_split\n",
    "from sklearn.metrics import confusion_matrix, classification_report\n",
    "from sklearn.metrics import roc_auc_score, roc_curve"
   ]
  },
  {
   "cell_type": "markdown",
   "metadata": {},
   "source": [
    "df_train_ident = pd.read_csv('data/train_identity.csv.gz')\n",
    "df_train_transact = pd.read_csv('data/train_transaction.csv.gz')\n",
    "df_test_ident = pd.read_csv('data/test_identity.csv.gz')\n",
    "df_test_transact = pd.read_csv('data/test_transaction.csv.gz')"
   ]
  },
  {
   "cell_type": "markdown",
   "metadata": {},
   "source": [
    "import pickle\n",
    "with open('df_train_ident.pickle','rb') as k:\n",
    "    df_train_ident = pickle.load(k)\n",
    "with open('df_train_transact.pickle','rb') as l:\n",
    "    df_train_transact = pickle.load(l)\n",
    "with open('df_test_ident.pickle','rb') as m:\n",
    "    df_test_ident = pickle.load(m)\n",
    "with open('df_test_transact.pickle','rb') as n:\n",
    "    df_test_transact = pickle.load(n)"
   ]
  },
  {
   "cell_type": "markdown",
   "metadata": {},
   "source": [
    "# Using TransactionID as index for both data.\n",
    "df_train_ident.set_index('TransactionID',inplace=True)\n",
    "df_train_transact.set_index('TransactionID',inplace=True)\n",
    "df_test_ident.set_index('TransactionID',inplace=True)\n",
    "df_test_transact.set_index('TransactionID',inplace=True)\n"
   ]
  },
  {
   "cell_type": "markdown",
   "metadata": {},
   "source": [
    "df_train = pd.merge(df_train_transact, df_train_ident, on='TransactionID', how='left')\n",
    "df_test = pd.merge(df_test_transact, df_test_ident, on='TransactionID', how='left')"
   ]
  },
  {
   "cell_type": "code",
   "execution_count": 2,
   "metadata": {},
   "outputs": [],
   "source": [
    "with open('df_test_leftMerged.pickle','rb') as f:\n",
    "    df_test = pickle.load(f)\n",
    "with open('df_train_leftMerged.pickle','rb') as g:\n",
    "    df_train = pickle.load(g)"
   ]
  },
  {
   "cell_type": "code",
   "execution_count": 3,
   "metadata": {},
   "outputs": [],
   "source": [
    "def preprocessing(line):\n",
    "    line = str(line).lower()\n",
    "    line = re.sub(r\"[^\\w\\s]\", '_', line)\n",
    "    line = re.sub(r\"\\s+\", ' ', line)\n",
    "    return line"
   ]
  },
  {
   "cell_type": "markdown",
   "metadata": {},
   "source": [
    "# Feature engineering"
   ]
  },
  {
   "cell_type": "code",
   "execution_count": 4,
   "metadata": {},
   "outputs": [],
   "source": [
    "#Convert TransactionDT to a weekday number.\n",
    "df_train['WD'] = pd.to_timedelta(df_train['TransactionDT'],unit='seconds')+np.datetime64('2015-01-01')\n",
    "df_test['WD']  = pd.to_timedelta(df_test['TransactionDT'],unit='seconds')+np.datetime64('2015-01-01')\n",
    "df_train['WD'] = df_train['WD'].dt.dayofweek\n",
    "df_test['WD'] = df_test['WD'].dt.dayofweek"
   ]
  },
  {
   "cell_type": "code",
   "execution_count": 5,
   "metadata": {},
   "outputs": [],
   "source": [
    "#Break up resolution string of format num1 x num2 into 2 columns (num1 and num2)\n",
    "# each being an int.\n",
    "df_train['res1'] = df_train[~pd.isnull(df_train['id_33'])]['id_33'].apply(lambda x: str(x).split('x')[0])\n",
    "df_train['res2'] = df_train[~pd.isnull(df_train['id_33'])]['id_33'].apply(lambda x: str(x).split('x')[1])\n",
    "df_test['res1'] = df_test[~pd.isnull(df_test['id_33'])]['id_33'].apply(lambda x: str(x).split('x')[0])\n",
    "df_test['res2'] = df_test[~pd.isnull(df_test['id_33'])]['id_33'].apply(lambda x: str(x).split('x')[1])"
   ]
  },
  {
   "cell_type": "markdown",
   "metadata": {},
   "source": [
    "# Data Prep"
   ]
  },
  {
   "cell_type": "code",
   "execution_count": 6,
   "metadata": {},
   "outputs": [],
   "source": [
    "# Collect all columns which have more than 25% as no-values/NaN\n",
    "miss_val_threshold = 0.25\n",
    "\n",
    "col_to_del = []\n",
    "\n",
    "for c in df_train.columns:\n",
    "    if df_train[c].isnull().sum() > df_train.shape[0]*miss_val_threshold:\n",
    "        col_to_del.append(c)\n",
    "\n",
    "for c in df_test.columns:\n",
    "    if df_train[c].isnull().sum() > df_test.shape[0]*miss_val_threshold:\n",
    "        if c not in col_to_del:\n",
    "            col_to_del.append(c)\n",
    "        \n",
    "col_to_del.append('TransactionID')\n",
    "col_to_del.append('TransactionDT')"
   ]
  },
  {
   "cell_type": "code",
   "execution_count": 7,
   "metadata": {},
   "outputs": [],
   "source": [
    "df_test_transactionids = df_test['TransactionID']\n",
    "df_train.drop(columns=col_to_del, inplace = True)\n",
    "df_test.drop(columns=col_to_del, inplace = True)"
   ]
  },
  {
   "cell_type": "code",
   "execution_count": 8,
   "metadata": {},
   "outputs": [],
   "source": [
    "df_train.fillna(-999, inplace= True)\n",
    "df_test.fillna(-999, inplace= True)"
   ]
  },
  {
   "cell_type": "code",
   "execution_count": 9,
   "metadata": {},
   "outputs": [
    {
     "name": "stdout",
     "output_type": "stream",
     "text": [
      "<class 'pandas.core.frame.DataFrame'>\n",
      "Int64Index: 590540 entries, 0 to 590539\n",
      "Columns: 181 entries, isFraud to WD\n",
      "dtypes: float64(174), int64(3), object(4)\n",
      "memory usage: 820.0+ MB\n",
      "<class 'pandas.core.frame.DataFrame'>\n",
      "Int64Index: 506691 entries, 0 to 506690\n",
      "Columns: 180 entries, TransactionAmt to WD\n",
      "dtypes: float64(174), int64(2), object(4)\n",
      "memory usage: 699.7+ MB\n"
     ]
    }
   ],
   "source": [
    "# before optimization\n",
    "df_train.info()\n",
    "df_test.info()"
   ]
  },
  {
   "cell_type": "code",
   "execution_count": 10,
   "metadata": {},
   "outputs": [],
   "source": [
    "col_int16 = ['card1', 'card2', 'card3', 'card5', 'addr1', 'addr2',\n",
    "           'C1', 'C2', 'C3', 'C4', 'C5', 'C6', 'C7', 'C8', 'C9', 'C10', 'C11', 'C12', 'C13', 'C14',\n",
    "           'D1', 'D10', 'D15', 'V12', 'V13', 'V14', 'V15', 'V16', 'V17', 'V18', 'V19',\n",
    "           'V20', 'V21', 'V22', 'V23', 'V24', 'V25', 'V26', 'V27', 'V28', 'V29', 'V30',\n",
    "           'V31', 'V32', 'V33', 'V34', 'V53', 'V54', 'V55', 'V56', 'V57', 'V58', 'V59',\n",
    "           'V60', 'V61', 'V62', 'V63', 'V64', 'V65', 'V66', 'V67', 'V68', 'V69', \n",
    "           'V70', 'V71', 'V72', 'V73', 'V74', 'V75', 'V76', 'V77', 'V78', 'V79',\n",
    "           'V80', 'V81', 'V82', 'V83', 'V84', 'V85', 'V86', 'V87', 'V88', 'V89',\n",
    "           'V90', 'V91', 'V92', 'V93', 'V94', 'V95', 'V96', 'V97', 'V98', 'V99',\n",
    "           'V100', 'V101', 'V102', 'V103', 'V104', 'V105', 'V106', 'V107', 'V108', 'V109',\n",
    "           'V110', 'V111', 'V112', 'V113', 'V114', 'V115', 'V116', 'V117', 'V118', 'V119',\n",
    "           'V120', 'V121', 'V122', 'V123', 'V124', 'V125', 'V126', 'V127', 'V128', 'V129',\n",
    "           'V130', 'V131', 'V132', 'V133', 'V134', 'V135', 'V136', 'V137', 'V279',\n",
    "           'V280', 'V281', 'V282', 'V283', 'V284', 'V285', 'V286', 'V287', 'V288', 'V289',\n",
    "           'V290', 'V291', 'V292', 'V293', 'V294', 'V295', 'V296', 'V297', 'V298', 'V299',\n",
    "           'V300', 'V301', 'V302', 'V303', 'V304', 'V305', 'V306', 'V307', 'V308', 'V309',\n",
    "           'V310', 'V311', 'V312', 'V313', 'V314', 'V315', 'V316', 'V317', 'V318', 'V319',\n",
    "           'V320', 'V321']"
   ]
  },
  {
   "cell_type": "code",
   "execution_count": 11,
   "metadata": {},
   "outputs": [],
   "source": [
    "for c in col_int16:\n",
    "    df_train[c] = df_train[c].astype(np.int16)\n",
    "    df_test[c] = df_test[c].astype(np.int16)"
   ]
  },
  {
   "cell_type": "code",
   "execution_count": 12,
   "metadata": {},
   "outputs": [],
   "source": [
    "# one-hot-encoding of categorical values in train dataset\n",
    "col_dummies = ['ProductCD', 'card4', 'card6', 'P_emaildomain']\n",
    "\n",
    "for c in col_dummies:\n",
    "    df_train[c] = pd.get_dummies(df_train[c])\n",
    "    df_test[c] = pd.get_dummies(df_test[c])\n",
    "    \n",
    "# drop one-hot-encoded features     \n",
    "df_train.drop(columns=col_dummies, inplace = True)  \n",
    "df_test.drop(columns=col_dummies, inplace = True) "
   ]
  },
  {
   "cell_type": "code",
   "execution_count": 13,
   "metadata": {},
   "outputs": [
    {
     "name": "stdout",
     "output_type": "stream",
     "text": [
      "<class 'pandas.core.frame.DataFrame'>\n",
      "Int64Index: 590540 entries, 0 to 590539\n",
      "Columns: 177 entries, isFraud to WD\n",
      "dtypes: float64(1), int16(174), int64(2)\n",
      "memory usage: 214.0 MB\n",
      "<class 'pandas.core.frame.DataFrame'>\n",
      "Int64Index: 506691 entries, 0 to 506690\n",
      "Columns: 176 entries, TransactionAmt to WD\n",
      "dtypes: float64(1), int16(174), int64(1)\n",
      "memory usage: 179.8 MB\n"
     ]
    }
   ],
   "source": [
    "# after optimization\n",
    "df_train.info()\n",
    "df_test.info()"
   ]
  },
  {
   "cell_type": "markdown",
   "metadata": {},
   "source": [
    "# free memory\n",
    "del df_train_ident, df_train_transact, df_test_ident, df_test_transact\n",
    "gc.collect()"
   ]
  },
  {
   "cell_type": "code",
   "execution_count": 14,
   "metadata": {},
   "outputs": [],
   "source": [
    "def splitData():\n",
    "    df_train_neg = df_train.loc[df_train['isFraud'] == 0]\n",
    "    df_train_pos = df_train.loc[df_train['isFraud'] == 1]\n",
    "    \n",
    "    split = 0.2\n",
    "    x_train_pos, x_val_pos = train_test_split(df_train_pos, test_size=split, random_state=42)\n",
    "    x_train_neg, x_val_neg = train_test_split(df_train_neg, test_size=split, random_state=42)\n",
    "    \n",
    "    #downsample the majority to achieve 1:1 class distribution\n",
    "    x_train_neg = x_train_neg.sample(frac=1/27)\n",
    "    x_val_neg   = x_val_neg.sample(frac=1/27)\n",
    "    \n",
    "    #combine and reshuffle training and validation sets\n",
    "    x_train = (x_train_pos.append(x_train_neg)).sample(frac=1)\n",
    "    x_val   = (x_val_pos.append(x_val_neg)).sample(frac=1)\n",
    "    \n",
    "    y_train = x_train.pop('isFraud')\n",
    "    y_val   = x_val.pop('isFraud')\n",
    "    \n",
    "    return x_train, x_val, y_train, y_val"
   ]
  },
  {
   "cell_type": "code",
   "execution_count": 15,
   "metadata": {},
   "outputs": [],
   "source": [
    "X = df_train.drop('isFraud',axis=1)\n",
    "y = df_train['isFraud']"
   ]
  },
  {
   "cell_type": "code",
   "execution_count": 16,
   "metadata": {},
   "outputs": [
    {
     "name": "stdout",
     "output_type": "stream",
     "text": [
      "Iteration 1, loss = 0.59969729\n",
      "Iteration 2, loss = 0.58332264\n",
      "Iteration 3, loss = 0.57461549\n",
      "Iteration 4, loss = 0.57977562\n",
      "Iteration 5, loss = 0.57705239\n",
      "Iteration 6, loss = 0.57193922\n",
      "Iteration 7, loss = 0.57104544\n",
      "Iteration 8, loss = 0.57035794\n",
      "Iteration 9, loss = 0.56943975\n",
      "Iteration 10, loss = 0.56928467\n",
      "Iteration 11, loss = 0.57208773\n",
      "Iteration 12, loss = 0.56949497\n",
      "Iteration 13, loss = 0.56942041\n",
      "Iteration 14, loss = 0.57180322\n",
      "Iteration 15, loss = 0.56718959\n",
      "Iteration 16, loss = 0.56600183\n",
      "Iteration 17, loss = 0.56811865\n",
      "Iteration 18, loss = 0.56487589\n",
      "Iteration 19, loss = 0.56500207\n",
      "Iteration 20, loss = 0.56524559\n",
      "Iteration 21, loss = 0.56657645\n",
      "Iteration 22, loss = 0.56495430\n",
      "Iteration 23, loss = 0.56650653\n",
      "Iteration 24, loss = 0.56516263\n",
      "Iteration 25, loss = 0.56832950\n",
      "Iteration 26, loss = 0.56587203\n",
      "Iteration 27, loss = 0.56492048\n",
      "Iteration 28, loss = 0.56405061\n",
      "Iteration 29, loss = 0.56185235\n",
      "Iteration 30, loss = 0.56157801\n",
      "Iteration 31, loss = 0.56327861\n",
      "Iteration 32, loss = 0.56169770\n",
      "Iteration 33, loss = 0.55999900\n",
      "Iteration 34, loss = 0.55971876\n",
      "Iteration 35, loss = 0.56059920\n",
      "Iteration 36, loss = 0.55939263\n",
      "Iteration 37, loss = 0.56199276\n",
      "Iteration 38, loss = 0.56381472\n",
      "Iteration 39, loss = 0.56091576\n",
      "Iteration 40, loss = 0.56598119\n",
      "Iteration 41, loss = 0.56333140\n",
      "Iteration 42, loss = 0.56240739\n",
      "Iteration 43, loss = 0.56039500\n",
      "Iteration 44, loss = 0.55683340\n",
      "Iteration 45, loss = 0.55724904\n",
      "Iteration 46, loss = 0.55849244\n",
      "Iteration 47, loss = 0.55908159\n",
      "Iteration 48, loss = 0.56049982\n",
      "Iteration 49, loss = 0.56279822\n",
      "Iteration 50, loss = 0.56246241\n",
      "Iteration 51, loss = 0.56266479\n",
      "Iteration 52, loss = 0.56200401\n",
      "Iteration 53, loss = 0.55626142\n",
      "Iteration 54, loss = 0.55805392\n",
      "Iteration 55, loss = 0.56380748\n",
      "Iteration 56, loss = 0.55852880\n",
      "Iteration 57, loss = 0.56164908\n",
      "Iteration 58, loss = 0.56487509\n",
      "Iteration 59, loss = 0.56210563\n",
      "Iteration 60, loss = 0.56470735\n",
      "Iteration 61, loss = 0.55983523\n",
      "Iteration 62, loss = 0.56432214\n",
      "Iteration 63, loss = 0.56140987\n",
      "Iteration 64, loss = 0.55777447\n",
      "Training loss did not improve more than tol=0.000100 for 10 consecutive epochs. Stopping.\n"
     ]
    },
    {
     "data": {
      "text/plain": [
       "MLPClassifier(activation='tanh', alpha=0.01, batch_size='auto', beta_1=0.9,\n",
       "       beta_2=0.999, early_stopping=False, epsilon=1e-08,\n",
       "       hidden_layer_sizes=(300,), learning_rate='constant',\n",
       "       learning_rate_init=0.001, max_iter=1000, momentum=0.9,\n",
       "       n_iter_no_change=10, nesterovs_momentum=True, power_t=0.5,\n",
       "       random_state=None, shuffle=True, solver='adam', tol=0.0001,\n",
       "       validation_fraction=0.1, verbose=True, warm_start=False)"
      ]
     },
     "execution_count": 16,
     "metadata": {},
     "output_type": "execute_result"
    }
   ],
   "source": [
    "# Create training and test sets\n",
    "#X_train, X_test, y_train, y_test = train_test_split(X, y, test_size = 0.4, random_state=42)\n",
    "X_train, X_test, y_train, y_test = splitData()\n",
    "\n",
    "mlpc = MLPClassifier(hidden_layer_sizes=(300,),activation='tanh',alpha=0.01,max_iter=1000,verbose=True)\n",
    "# T R A I N\n",
    "# Fit the classifier to the training data\n",
    "mlpc.fit(X_train,y_train)"
   ]
  },
  {
   "cell_type": "code",
   "execution_count": 17,
   "metadata": {},
   "outputs": [
    {
     "name": "stdout",
     "output_type": "stream",
     "text": [
      "[[2832 1389]\n",
      " [ 935 3198]]\n",
      "              precision    recall  f1-score   support\n",
      "\n",
      "           0       0.75      0.67      0.71      4221\n",
      "           1       0.70      0.77      0.73      4133\n",
      "\n",
      "   micro avg       0.72      0.72      0.72      8354\n",
      "   macro avg       0.72      0.72      0.72      8354\n",
      "weighted avg       0.72      0.72      0.72      8354\n",
      "\n"
     ]
    }
   ],
   "source": [
    "# P R E D I C T\n",
    "# Predict the labels of the test set: y_pred\n",
    "y_pred = mlpc.predict(X_test)\n",
    "\n",
    "#\n",
    "# E V A L U A T E\n",
    "#\n",
    "# Compute and print the confusion matrix and classification report\n",
    "print(confusion_matrix(y_test, y_pred))\n",
    "print(classification_report(y_test, y_pred))"
   ]
  },
  {
   "cell_type": "code",
   "execution_count": 18,
   "metadata": {},
   "outputs": [
    {
     "data": {
      "image/png": "[encoded data removed]",
      "text/plain": [
       "<Figure size 432x288 with 1 Axes>"
      ]
     },
     "metadata": {
      "needs_background": "light"
     },
     "output_type": "display_data"
    }
   ],
   "source": [
    "# R O C \n",
    "# Compute predicted probabilities: y_pred_prob\n",
    "y_pred_prob = mlpc.predict_proba(X_test)[:,1]\n",
    "\n",
    "# Generate ROC curve values: fpr, tpr, thresholds\n",
    "fpr, tpr, thresholds = roc_curve(y_test, y_pred_prob)\n",
    "\n",
    "# Plot ROC curve\n",
    "plt.plot([0, 1], [0, 1], 'k--')\n",
    "plt.plot(fpr, tpr)\n",
    "plt.xlabel('False Positive Rate')\n",
    "plt.ylabel('True Positive Rate')\n",
    "plt.title('ROC Curve')\n",
    "plt.show()"
   ]
  },
  {
   "cell_type": "code",
   "execution_count": 19,
   "metadata": {},
   "outputs": [
    {
     "name": "stdout",
     "output_type": "stream",
     "text": [
      "AUC: 0.7905777187134735\n",
      "Iteration 1, loss = 0.13858769\n",
      "Iteration 2, loss = 0.13509946\n",
      "Iteration 3, loss = 0.13528833\n",
      "Iteration 4, loss = 0.13532357\n",
      "Iteration 5, loss = 0.13544382\n",
      "Iteration 6, loss = 0.13501430\n",
      "Iteration 7, loss = 0.13495088\n",
      "Iteration 8, loss = 0.13438226\n",
      "Iteration 9, loss = 0.13636596\n",
      "Iteration 10, loss = 0.13485867\n",
      "Iteration 11, loss = 0.13478867\n",
      "Iteration 12, loss = 0.13504298\n",
      "Iteration 13, loss = 0.13601829\n",
      "Iteration 14, loss = 0.13582021\n",
      "Iteration 15, loss = 0.13529313\n",
      "Iteration 16, loss = 0.13627045\n",
      "Iteration 17, loss = 0.13556579\n",
      "Iteration 18, loss = 0.13537787\n",
      "Iteration 19, loss = 0.13493287\n",
      "Training loss did not improve more than tol=0.000100 for 10 consecutive epochs. Stopping.\n",
      "Iteration 1, loss = 0.14405696\n",
      "Iteration 2, loss = 0.13907775\n",
      "Iteration 3, loss = 0.13888350\n",
      "Iteration 4, loss = 0.13789163\n",
      "Iteration 5, loss = 0.13834621\n",
      "Iteration 6, loss = 0.13844600\n",
      "Iteration 7, loss = 0.13792381\n",
      "Iteration 8, loss = 0.13785452\n",
      "Iteration 9, loss = 0.13830989\n",
      "Iteration 10, loss = 0.13774867\n",
      "Iteration 11, loss = 0.13810897\n",
      "Iteration 12, loss = 0.13747606\n",
      "Iteration 13, loss = 0.13786235\n",
      "Iteration 14, loss = 0.13761736\n",
      "Iteration 15, loss = 0.13760720\n",
      "Iteration 16, loss = 0.13865746\n",
      "Iteration 17, loss = 0.13779958\n",
      "Iteration 18, loss = 0.13926896\n",
      "Iteration 19, loss = 0.13831877\n",
      "Iteration 20, loss = 0.13844861\n",
      "Iteration 21, loss = 0.13825494\n",
      "Iteration 22, loss = 0.13766537\n",
      "Iteration 23, loss = 0.13803800\n",
      "Training loss did not improve more than tol=0.000100 for 10 consecutive epochs. Stopping.\n",
      "Iteration 1, loss = 0.14086792\n",
      "Iteration 2, loss = 0.13967923\n",
      "Iteration 3, loss = 0.13840647\n",
      "Iteration 4, loss = 0.13806077\n",
      "Iteration 5, loss = 0.13711926\n",
      "Iteration 6, loss = 0.13749289\n",
      "Iteration 7, loss = 0.13723215\n",
      "Iteration 8, loss = 0.13686644\n",
      "Iteration 9, loss = 0.13671677\n",
      "Iteration 10, loss = 0.13790377\n",
      "Iteration 11, loss = 0.13790636\n",
      "Iteration 12, loss = 0.13730450\n",
      "Iteration 13, loss = 0.13661718\n",
      "Iteration 14, loss = 0.13569423\n",
      "Iteration 15, loss = 0.13564416\n",
      "Iteration 16, loss = 0.13591147\n",
      "Iteration 17, loss = 0.13786311\n",
      "Iteration 18, loss = 0.13714095\n",
      "Iteration 19, loss = 0.13629813\n",
      "Iteration 20, loss = 0.13673122\n",
      "Iteration 21, loss = 0.13565603\n",
      "Iteration 22, loss = 0.13443044\n",
      "Iteration 23, loss = 0.13443704\n",
      "Iteration 24, loss = 0.13634176\n",
      "Iteration 25, loss = 0.13617770\n",
      "Iteration 26, loss = 0.13624074\n",
      "Iteration 27, loss = 0.13787511\n",
      "Iteration 28, loss = 0.13747055\n",
      "Iteration 29, loss = 0.13645309\n",
      "Iteration 30, loss = 0.13688061\n",
      "Iteration 31, loss = 0.13570140\n",
      "Iteration 32, loss = 0.13499545\n",
      "Iteration 33, loss = 0.13646331\n",
      "Training loss did not improve more than tol=0.000100 for 10 consecutive epochs. Stopping.\n",
      "Iteration 1, loss = 0.14362214\n",
      "Iteration 2, loss = 0.14010276\n",
      "Iteration 3, loss = 0.13917785\n",
      "Iteration 4, loss = 0.13882955\n",
      "Iteration 5, loss = 0.13923456\n",
      "Iteration 6, loss = 0.13907291\n",
      "Iteration 7, loss = 0.13849445\n",
      "Iteration 8, loss = 0.13854232\n",
      "Iteration 9, loss = 0.13911518\n",
      "Iteration 10, loss = 0.13887846\n",
      "Iteration 11, loss = 0.13848787\n",
      "Iteration 12, loss = 0.13838956\n",
      "Iteration 13, loss = 0.13797330\n",
      "Iteration 14, loss = 0.13817758\n",
      "Iteration 15, loss = 0.13805410\n",
      "Iteration 16, loss = 0.13839476\n",
      "Iteration 17, loss = 0.13755246\n",
      "Iteration 18, loss = 0.13849646\n",
      "Iteration 19, loss = 0.13845455\n",
      "Iteration 20, loss = 0.13833541\n",
      "Iteration 21, loss = 0.13778580\n",
      "Iteration 22, loss = 0.13851735\n",
      "Iteration 23, loss = 0.13787597\n",
      "Iteration 24, loss = 0.13838083\n",
      "Iteration 25, loss = 0.13714841\n",
      "Iteration 26, loss = 0.13903550\n",
      "Iteration 27, loss = 0.13908552\n",
      "Iteration 28, loss = 0.13845858\n",
      "Iteration 29, loss = 0.13811022\n",
      "Iteration 30, loss = 0.13843158\n",
      "Iteration 31, loss = 0.13761691\n",
      "Iteration 32, loss = 0.13709263\n",
      "Iteration 33, loss = 0.13793524\n",
      "Iteration 34, loss = 0.13740464\n",
      "Iteration 35, loss = 0.13699199\n",
      "Iteration 36, loss = 0.13661435\n",
      "Iteration 37, loss = 0.13747417\n",
      "Iteration 38, loss = 0.13808063\n",
      "Iteration 39, loss = 0.13827290\n",
      "Iteration 40, loss = 0.13757968\n",
      "Iteration 41, loss = 0.13802021\n",
      "Iteration 42, loss = 0.13726147\n",
      "Iteration 43, loss = 0.13675192\n",
      "Iteration 44, loss = 0.13703319\n",
      "Iteration 45, loss = 0.13689845\n",
      "Iteration 46, loss = 0.13702107\n",
      "Iteration 47, loss = 0.13796563\n",
      "Training loss did not improve more than tol=0.000100 for 10 consecutive epochs. Stopping.\n",
      "Iteration 1, loss = 0.14266254\n",
      "Iteration 2, loss = 0.13885210\n",
      "Iteration 3, loss = 0.13879399\n",
      "Iteration 4, loss = 0.13895866\n",
      "Iteration 5, loss = 0.13843413\n",
      "Iteration 6, loss = 0.13836958\n",
      "Iteration 7, loss = 0.13897991\n",
      "Iteration 8, loss = 0.13849365\n",
      "Iteration 9, loss = 0.13757527\n",
      "Iteration 10, loss = 0.13694736\n",
      "Iteration 11, loss = 0.13559491\n",
      "Iteration 12, loss = 0.13591209\n",
      "Iteration 13, loss = 0.13696051\n",
      "Iteration 14, loss = 0.13778936\n",
      "Iteration 15, loss = 0.13808551\n",
      "Iteration 16, loss = 0.13854800\n",
      "Iteration 17, loss = 0.13838580\n",
      "Iteration 18, loss = 0.13834210\n",
      "Iteration 19, loss = 0.13822593\n",
      "Iteration 20, loss = 0.13781512\n",
      "Iteration 21, loss = 0.13764758\n",
      "Iteration 22, loss = 0.13697079\n",
      "Training loss did not improve more than tol=0.000100 for 10 consecutive epochs. Stopping.\n",
      "AUC scores computed using 5-fold cross-validation: [0.68760272 0.77994673 0.76763299 0.78537751 0.77148591]\n"
     ]
    }
   ],
   "source": [
    "# A U C\n",
    "# Compute predicted probabilities: y_pred_prob\n",
    "y_pred_prob = mlpc.predict_proba(X_test)[:,1]\n",
    "\n",
    "# Compute and print AUC score\n",
    "print(\"AUC: {}\".format(roc_auc_score(y_test, y_pred_prob)))\n",
    "\n",
    "# Compute cross-validated AUC scores: cv_auc\n",
    "cv_auc = cross_val_score(mlpc,X,y,scoring='roc_auc',cv=5)\n",
    "\n",
    "# Print list of AUC scores\n",
    "print(\"AUC scores computed using 5-fold cross-validation: {}\".format(cv_auc))"
   ]
  },
  {
   "cell_type": "code",
   "execution_count": 20,
   "metadata": {},
   "outputs": [],
   "source": [
    "y_real_pred = mlpc.predict_proba(df_test)[:,1]"
   ]
  },
  {
   "cell_type": "code",
   "execution_count": 21,
   "metadata": {},
   "outputs": [],
   "source": [
    "results_dict = dict(zip(df_test_transactionids.to_list(),y_real_pred))"
   ]
  },
  {
   "cell_type": "code",
   "execution_count": 22,
   "metadata": {},
   "outputs": [],
   "source": [
    "items = results_dict.items()\n",
    "results_df = pd.DataFrame({'TransactionID': [i[0] for i in items], 'isFraud': [i[1] for i in items]})"
   ]
  },
  {
   "cell_type": "code",
   "execution_count": 23,
   "metadata": {},
   "outputs": [],
   "source": [
    "results_df.to_csv('results_mlcp.csv',index=False)"
   ]
  },
  {
   "cell_type": "raw",
   "metadata": {},
   "source": [
    "Rank : Score\n",
    "2059 : 0.8490\n"
   ]
  },
  {
   "cell_type": "code",
   "execution_count": null,
   "metadata": {},
   "outputs": [],
   "source": []
  }
 ],
 "metadata": {
  "kernelspec": {
   "display_name": "Python 3",
   "language": "python",
   "name": "python3"
  },
  "language_info": {
   "codemirror_mode": {
    "name": "ipython",
    "version": 3
   },
   "file_extension": ".py",
   "mimetype": "text/x-python",
   "name": "python",
   "nbconvert_exporter": "python",
   "pygments_lexer": "ipython3",
   "version": "3.7.3"
  }
 },
 "nbformat": 4,
 "nbformat_minor": 2
}

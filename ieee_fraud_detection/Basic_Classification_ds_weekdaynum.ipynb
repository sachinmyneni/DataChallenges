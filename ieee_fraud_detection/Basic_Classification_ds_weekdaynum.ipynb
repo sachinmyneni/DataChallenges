{
 "cells": [
  {
   "cell_type": "code",
   "execution_count": 1,
   "metadata": {},
   "outputs": [],
   "source": [
    "import pandas as pd\n",
    "import numpy as np\n",
    "import re\n",
    "import gc\n",
    "import matplotlib.pyplot as plt\n",
    "from sklearn.linear_model import LogisticRegression\n",
    "from sklearn.model_selection import cross_val_score, train_test_split\n",
    "from sklearn.metrics import confusion_matrix, classification_report\n",
    "from sklearn.metrics import roc_auc_score, roc_curve\n",
    "from sklearn.feature_extraction.text import TfidfVectorizer\n",
    "from sklearn.cluster import KMeans"
   ]
  },
  {
   "cell_type": "code",
   "execution_count": 2,
   "metadata": {},
   "outputs": [],
   "source": [
    "df_train_ident = pd.read_csv('data/train_identity.csv.gz')\n",
    "df_train_transact = pd.read_csv('data/train_transaction.csv.gz')\n",
    "df_test_ident = pd.read_csv('data/test_identity.csv.gz')\n",
    "df_test_transact = pd.read_csv('data/test_transaction.csv.gz')"
   ]
  },
  {
   "cell_type": "markdown",
   "metadata": {},
   "source": [
    "import pickle\n",
    "with open('df_train_ident.pickle','rb') as k:\n",
    "    df_train_ident = pickle.load(k)\n",
    "with open('df_train_transact.pickle','rb') as l:\n",
    "    df_train_transact = pickle.load(l)\n",
    "with open('df_test_ident.pickle','rb') as m:\n",
    "    df_test_ident = pickle.load(m)\n",
    "with open('df_test_transact.pickle','rb') as n:\n",
    "    df_test_transact = pickle.load(n)"
   ]
  },
  {
   "cell_type": "markdown",
   "metadata": {},
   "source": [
    "# Using TransactionID as index for both data.\n",
    "df_train_ident.set_index('TransactionID',inplace=True)\n",
    "df_train_transact.set_index('TransactionID',inplace=True)\n",
    "df_test_ident.set_index('TransactionID',inplace=True)\n",
    "df_test_transact.set_index('TransactionID',inplace=True)\n"
   ]
  },
  {
   "cell_type": "code",
   "execution_count": 3,
   "metadata": {},
   "outputs": [],
   "source": [
    "df_train = pd.merge(df_train_transact, df_train_ident, on='TransactionID', how='left')\n",
    "df_test = pd.merge(df_test_transact, df_test_ident, on='TransactionID', how='left')"
   ]
  },
  {
   "cell_type": "markdown",
   "metadata": {},
   "source": [
    "with open('df_test_leftMerged.pickle','rb') as f:\n",
    "    df_test = pickle.load(f)\n",
    "with open('df_train_leftMerged.pickle','rb') as g:\n",
    "    df_train = pickle.load(g)"
   ]
  },
  {
   "cell_type": "code",
   "execution_count": 4,
   "metadata": {},
   "outputs": [],
   "source": [
    "def preprocessing(line):\n",
    "    line = str(line).lower()\n",
    "    line = re.sub(r\"[^\\w\\s]\", '_', line)\n",
    "    line = re.sub(r\"\\s+\", ' ', line)\n",
    "    return line"
   ]
  },
  {
   "cell_type": "markdown",
   "metadata": {},
   "source": [
    "# Feature engineering"
   ]
  },
  {
   "cell_type": "code",
   "execution_count": 6,
   "metadata": {},
   "outputs": [],
   "source": [
    "#Convert TransactionDT to a weekday number.\n",
    "df_train['WD'] = pd.to_timedelta(df_train['TransactionDT'],unit='seconds')+np.datetime64('2015-01-01')\n",
    "df_test['WD']  = pd.to_timedelta(df_test['TransactionDT'],unit='seconds')+np.datetime64('2015-01-01')\n",
    "df_train['WD'] = df_train['WD'].dt.dayofweek\n",
    "df_test['WD'] = df_test['WD'].dt.dayofweek"
   ]
  },
  {
   "cell_type": "markdown",
   "metadata": {},
   "source": [
    "# Data Prep"
   ]
  },
  {
   "cell_type": "code",
   "execution_count": 8,
   "metadata": {},
   "outputs": [],
   "source": [
    "miss_val_threshold = 0.25\n",
    "\n",
    "col_to_del = []\n",
    "\n",
    "for c in df_train.columns:\n",
    "    if df_train[c].isnull().sum() > df_train.shape[0]*miss_val_threshold:\n",
    "        col_to_del.append(c)\n",
    "\n",
    "for c in df_test.columns:\n",
    "    if df_train[c].isnull().sum() > df_test.shape[0]*miss_val_threshold:\n",
    "        if c not in col_to_del:\n",
    "            col_to_del.append(c)\n",
    "        \n",
    "col_to_del.append('TransactionID')\n",
    "col_to_del.append('TransactionDT')"
   ]
  },
  {
   "cell_type": "code",
   "execution_count": 9,
   "metadata": {},
   "outputs": [],
   "source": [
    "df_test_transactionids = df_test['TransactionID']\n",
    "df_train.drop(columns=col_to_del, inplace = True)\n",
    "df_test.drop(columns=col_to_del, inplace = True)"
   ]
  },
  {
   "cell_type": "code",
   "execution_count": 10,
   "metadata": {},
   "outputs": [],
   "source": [
    "df_train.fillna(-999, inplace= True)\n",
    "df_test.fillna(-999, inplace= True)"
   ]
  },
  {
   "cell_type": "code",
   "execution_count": 11,
   "metadata": {},
   "outputs": [
    {
     "name": "stdout",
     "output_type": "stream",
     "text": [
      "<class 'pandas.core.frame.DataFrame'>\n",
      "Int64Index: 590540 entries, 0 to 590539\n",
      "Columns: 181 entries, isFraud to WD\n",
      "dtypes: float64(174), int64(3), object(4)\n",
      "memory usage: 820.0+ MB\n",
      "<class 'pandas.core.frame.DataFrame'>\n",
      "Int64Index: 506691 entries, 0 to 506690\n",
      "Columns: 180 entries, TransactionAmt to WD\n",
      "dtypes: float64(174), int64(2), object(4)\n",
      "memory usage: 699.7+ MB\n"
     ]
    }
   ],
   "source": [
    "# before optimization\n",
    "df_train.info()\n",
    "df_test.info()"
   ]
  },
  {
   "cell_type": "code",
   "execution_count": 12,
   "metadata": {},
   "outputs": [],
   "source": [
    "col_int16 = ['TransactionAmt', 'card1', 'card2', 'card3', 'card5', 'addr1', 'addr2',\n",
    "           'C1', 'C2', 'C3', 'C4', 'C5', 'C6', 'C7', 'C8', 'C9', 'C10', 'C11', 'C12', 'C13', 'C14',\n",
    "           'D1', 'D10', 'D15', 'V12', 'V13', 'V14', 'V15', 'V16', 'V17', 'V18', 'V19',\n",
    "           'V20', 'V21', 'V22', 'V23', 'V24', 'V25', 'V26', 'V27', 'V28', 'V29', 'V30',\n",
    "           'V31', 'V32', 'V33', 'V34', 'V53', 'V54', 'V55', 'V56', 'V57', 'V58', 'V59',\n",
    "           'V60', 'V61', 'V62', 'V63', 'V64', 'V65', 'V66', 'V67', 'V68', 'V69', \n",
    "           'V70', 'V71', 'V72', 'V73', 'V74', 'V75', 'V76', 'V77', 'V78', 'V79',\n",
    "           'V80', 'V81', 'V82', 'V83', 'V84', 'V85', 'V86', 'V87', 'V88', 'V89',\n",
    "           'V90', 'V91', 'V92', 'V93', 'V94', 'V95', 'V96', 'V97', 'V98', 'V99',\n",
    "           'V100', 'V101', 'V102', 'V103', 'V104', 'V105', 'V106', 'V107', 'V108', 'V109',\n",
    "           'V110', 'V111', 'V112', 'V113', 'V114', 'V115', 'V116', 'V117', 'V118', 'V119',\n",
    "           'V120', 'V121', 'V122', 'V123', 'V124', 'V125', 'V126', 'V127', 'V128', 'V129',\n",
    "           'V130', 'V131', 'V132', 'V133', 'V134', 'V135', 'V136', 'V137', 'V279',\n",
    "           'V280', 'V281', 'V282', 'V283', 'V284', 'V285', 'V286', 'V287', 'V288', 'V289',\n",
    "           'V290', 'V291', 'V292', 'V293', 'V294', 'V295', 'V296', 'V297', 'V298', 'V299',\n",
    "           'V300', 'V301', 'V302', 'V303', 'V304', 'V305', 'V306', 'V307', 'V308', 'V309',\n",
    "           'V310', 'V311', 'V312', 'V313', 'V314', 'V315', 'V316', 'V317', 'V318', 'V319',\n",
    "           'V320', 'V321']"
   ]
  },
  {
   "cell_type": "code",
   "execution_count": 13,
   "metadata": {},
   "outputs": [],
   "source": [
    "for c in col_int16:\n",
    "    df_train[c] = df_train[c].astype(np.int16)\n",
    "    df_test[c] = df_test[c].astype(np.int16)"
   ]
  },
  {
   "cell_type": "code",
   "execution_count": 14,
   "metadata": {},
   "outputs": [],
   "source": [
    "# one-hot-encoding of categorical values in train dataset\n",
    "col_dummies = ['ProductCD', 'card4', 'card6', 'P_emaildomain']\n",
    "\n",
    "for c in col_dummies:\n",
    "    df_train[c] = pd.get_dummies(df_train[c])\n",
    "    df_test[c] = pd.get_dummies(df_test[c])\n",
    "    \n",
    "# drop one-hot-encoded features     \n",
    "df_train.drop(columns=col_dummies, inplace = True)  \n",
    "df_test.drop(columns=col_dummies, inplace = True) "
   ]
  },
  {
   "cell_type": "code",
   "execution_count": 15,
   "metadata": {},
   "outputs": [
    {
     "name": "stdout",
     "output_type": "stream",
     "text": [
      "<class 'pandas.core.frame.DataFrame'>\n",
      "Int64Index: 590540 entries, 0 to 590539\n",
      "Columns: 177 entries, isFraud to WD\n",
      "dtypes: int16(175), int64(2)\n",
      "memory usage: 210.6 MB\n",
      "<class 'pandas.core.frame.DataFrame'>\n",
      "Int64Index: 506691 entries, 0 to 506690\n",
      "Columns: 176 entries, TransactionAmt to WD\n",
      "dtypes: int16(175), int64(1)\n",
      "memory usage: 176.9 MB\n"
     ]
    }
   ],
   "source": [
    "# after optimization\n",
    "df_train.info()\n",
    "df_test.info()"
   ]
  },
  {
   "cell_type": "code",
   "execution_count": 16,
   "metadata": {},
   "outputs": [
    {
     "data": {
      "text/plain": [
       "97"
      ]
     },
     "execution_count": 16,
     "metadata": {},
     "output_type": "execute_result"
    }
   ],
   "source": [
    "# free memory\n",
    "del df_train_ident, df_train_transact, df_test_ident, df_test_transact\n",
    "gc.collect()"
   ]
  },
  {
   "cell_type": "code",
   "execution_count": 17,
   "metadata": {},
   "outputs": [],
   "source": [
    "def splitData():\n",
    "    df_train_neg = df_train.loc[df_train['isFraud'] == 0]\n",
    "    df_train_pos = df_train.loc[df_train['isFraud'] == 1]\n",
    "    \n",
    "    split = 0.2\n",
    "    x_train_pos, x_val_pos = train_test_split(df_train_pos, test_size=split, random_state=42)\n",
    "    x_train_neg, x_val_neg = train_test_split(df_train_neg, test_size=split, random_state=42)\n",
    "    \n",
    "    #downsample the majority to achieve 1:1 class distribution\n",
    "    x_train_neg = x_train_neg.sample(frac=1/27)\n",
    "    x_val_neg   = x_val_neg.sample(frac=1/27)\n",
    "    \n",
    "    #combine and reshuffle training and validation sets\n",
    "    x_train = (x_train_pos.append(x_train_neg)).sample(frac=1)\n",
    "    x_val   = (x_val_pos.append(x_val_neg)).sample(frac=1)\n",
    "    \n",
    "    y_train = x_train.pop('isFraud')\n",
    "    y_val   = x_val.pop('isFraud')\n",
    "    \n",
    "    return x_train, x_val, y_train, y_val"
   ]
  },
  {
   "cell_type": "code",
   "execution_count": 18,
   "metadata": {},
   "outputs": [],
   "source": [
    "X = df_train.drop('isFraud',axis=1)\n",
    "y = df_train['isFraud']"
   ]
  },
  {
   "cell_type": "code",
   "execution_count": 19,
   "metadata": {},
   "outputs": [
    {
     "name": "stderr",
     "output_type": "stream",
     "text": [
      "C:\\Users\\myneni\\AppData\\Local\\Continuum\\anaconda3\\lib\\site-packages\\sklearn\\linear_model\\logistic.py:433: FutureWarning: Default solver will be changed to 'lbfgs' in 0.22. Specify a solver to silence this warning.\n",
      "  FutureWarning)\n",
      "C:\\Users\\myneni\\AppData\\Local\\Continuum\\anaconda3\\lib\\site-packages\\sklearn\\svm\\base.py:931: ConvergenceWarning: Liblinear failed to converge, increase the number of iterations.\n",
      "  \"the number of iterations.\", ConvergenceWarning)\n"
     ]
    },
    {
     "data": {
      "text/plain": [
       "LogisticRegression(C=1.0, class_weight=None, dual=False, fit_intercept=True,\n",
       "          intercept_scaling=1, max_iter=100, multi_class='warn',\n",
       "          n_jobs=None, penalty='l2', random_state=None, solver='warn',\n",
       "          tol=0.0001, verbose=0, warm_start=False)"
      ]
     },
     "execution_count": 19,
     "metadata": {},
     "output_type": "execute_result"
    }
   ],
   "source": [
    "# Create training and test sets\n",
    "#X_train, X_test, y_train, y_test = train_test_split(X, y, test_size = 0.4, random_state=42)\n",
    "X_train, X_test, y_train, y_test = splitData()\n",
    "\n",
    "# Create the classifier: logreg\n",
    "logreg = LogisticRegression()\n",
    "\n",
    "# T R A I N\n",
    "# Fit the classifier to the training data\n",
    "logreg.fit(X_train,y_train)"
   ]
  },
  {
   "cell_type": "code",
   "execution_count": 20,
   "metadata": {},
   "outputs": [
    {
     "name": "stdout",
     "output_type": "stream",
     "text": [
      "[[3149 1072]\n",
      " [1340 2793]]\n",
      "              precision    recall  f1-score   support\n",
      "\n",
      "           0       0.70      0.75      0.72      4221\n",
      "           1       0.72      0.68      0.70      4133\n",
      "\n",
      "   micro avg       0.71      0.71      0.71      8354\n",
      "   macro avg       0.71      0.71      0.71      8354\n",
      "weighted avg       0.71      0.71      0.71      8354\n",
      "\n"
     ]
    }
   ],
   "source": [
    "# P R E D I C T\n",
    "# Predict the labels of the test set: y_pred\n",
    "y_pred = logreg.predict(X_test)\n",
    "\n",
    "#\n",
    "# E V A L U A T E\n",
    "#\n",
    "# Compute and print the confusion matrix and classification report\n",
    "print(confusion_matrix(y_test, y_pred))\n",
    "print(classification_report(y_test, y_pred))"
   ]
  },
  {
   "cell_type": "code",
   "execution_count": 21,
   "metadata": {},
   "outputs": [
    {
     "data": {
      "image/png": "[encoded data removed]",
      "text/plain": [
       "<Figure size 432x288 with 1 Axes>"
      ]
     },
     "metadata": {
      "needs_background": "light"
     },
     "output_type": "display_data"
    }
   ],
   "source": [
    "# R O C \n",
    "# Compute predicted probabilities: y_pred_prob\n",
    "y_pred_prob = logreg.predict_proba(X_test)[:,1]\n",
    "\n",
    "# Generate ROC curve values: fpr, tpr, thresholds\n",
    "fpr, tpr, thresholds = roc_curve(y_test, y_pred_prob)\n",
    "\n",
    "# Plot ROC curve\n",
    "plt.plot([0, 1], [0, 1], 'k--')\n",
    "plt.plot(fpr, tpr)\n",
    "plt.xlabel('False Positive Rate')\n",
    "plt.ylabel('True Positive Rate')\n",
    "plt.title('ROC Curve')\n",
    "plt.show()"
   ]
  },
  {
   "cell_type": "code",
   "execution_count": 22,
   "metadata": {},
   "outputs": [
    {
     "name": "stdout",
     "output_type": "stream",
     "text": [
      "AUC: 0.7896078351459321\n"
     ]
    },
    {
     "name": "stderr",
     "output_type": "stream",
     "text": [
      "C:\\Users\\myneni\\AppData\\Local\\Continuum\\anaconda3\\lib\\site-packages\\sklearn\\linear_model\\logistic.py:433: FutureWarning: Default solver will be changed to 'lbfgs' in 0.22. Specify a solver to silence this warning.\n",
      "  FutureWarning)\n",
      "C:\\Users\\myneni\\AppData\\Local\\Continuum\\anaconda3\\lib\\site-packages\\sklearn\\svm\\base.py:931: ConvergenceWarning: Liblinear failed to converge, increase the number of iterations.\n",
      "  \"the number of iterations.\", ConvergenceWarning)\n",
      "C:\\Users\\myneni\\AppData\\Local\\Continuum\\anaconda3\\lib\\site-packages\\sklearn\\linear_model\\logistic.py:433: FutureWarning: Default solver will be changed to 'lbfgs' in 0.22. Specify a solver to silence this warning.\n",
      "  FutureWarning)\n",
      "C:\\Users\\myneni\\AppData\\Local\\Continuum\\anaconda3\\lib\\site-packages\\sklearn\\svm\\base.py:931: ConvergenceWarning: Liblinear failed to converge, increase the number of iterations.\n",
      "  \"the number of iterations.\", ConvergenceWarning)\n",
      "C:\\Users\\myneni\\AppData\\Local\\Continuum\\anaconda3\\lib\\site-packages\\sklearn\\linear_model\\logistic.py:433: FutureWarning: Default solver will be changed to 'lbfgs' in 0.22. Specify a solver to silence this warning.\n",
      "  FutureWarning)\n",
      "C:\\Users\\myneni\\AppData\\Local\\Continuum\\anaconda3\\lib\\site-packages\\sklearn\\svm\\base.py:931: ConvergenceWarning: Liblinear failed to converge, increase the number of iterations.\n",
      "  \"the number of iterations.\", ConvergenceWarning)\n",
      "C:\\Users\\myneni\\AppData\\Local\\Continuum\\anaconda3\\lib\\site-packages\\sklearn\\linear_model\\logistic.py:433: FutureWarning: Default solver will be changed to 'lbfgs' in 0.22. Specify a solver to silence this warning.\n",
      "  FutureWarning)\n",
      "C:\\Users\\myneni\\AppData\\Local\\Continuum\\anaconda3\\lib\\site-packages\\sklearn\\svm\\base.py:931: ConvergenceWarning: Liblinear failed to converge, increase the number of iterations.\n",
      "  \"the number of iterations.\", ConvergenceWarning)\n",
      "C:\\Users\\myneni\\AppData\\Local\\Continuum\\anaconda3\\lib\\site-packages\\sklearn\\linear_model\\logistic.py:433: FutureWarning: Default solver will be changed to 'lbfgs' in 0.22. Specify a solver to silence this warning.\n",
      "  FutureWarning)\n",
      "C:\\Users\\myneni\\AppData\\Local\\Continuum\\anaconda3\\lib\\site-packages\\sklearn\\svm\\base.py:931: ConvergenceWarning: Liblinear failed to converge, increase the number of iterations.\n",
      "  \"the number of iterations.\", ConvergenceWarning)\n"
     ]
    },
    {
     "name": "stdout",
     "output_type": "stream",
     "text": [
      "AUC scores computed using 5-fold cross-validation: [0.66721492 0.69485553 0.68562969 0.70357583 0.69018952]\n"
     ]
    }
   ],
   "source": [
    "# A U C\n",
    "# Compute predicted probabilities: y_pred_prob\n",
    "y_pred_prob = logreg.predict_proba(X_test)[:,1]\n",
    "\n",
    "# Compute and print AUC score\n",
    "print(\"AUC: {}\".format(roc_auc_score(y_test, y_pred_prob)))\n",
    "\n",
    "# Compute cross-validated AUC scores: cv_auc\n",
    "cv_auc = cross_val_score(logreg,X,y,scoring='roc_auc',cv=5)\n",
    "\n",
    "# Print list of AUC scores\n",
    "print(\"AUC scores computed using 5-fold cross-validation: {}\".format(cv_auc))"
   ]
  },
  {
   "cell_type": "code",
   "execution_count": 23,
   "metadata": {},
   "outputs": [],
   "source": [
    "y_real_pred = logreg.predict_proba(df_test)[:,1]"
   ]
  },
  {
   "cell_type": "code",
   "execution_count": 24,
   "metadata": {},
   "outputs": [],
   "source": [
    "results_dict = dict(zip(df_test_transactionids.to_list(),y_real_pred))"
   ]
  },
  {
   "cell_type": "code",
   "execution_count": 25,
   "metadata": {},
   "outputs": [],
   "source": [
    "items = results_dict.items()\n",
    "results_df = pd.DataFrame({'TransactionID': [i[0] for i in items], 'isFraud': [i[1] for i in items]})"
   ]
  },
  {
   "cell_type": "code",
   "execution_count": 26,
   "metadata": {},
   "outputs": [],
   "source": [
    "results_df.to_csv('results_downsample1_wkdaynum.csv',index=False)"
   ]
  },
  {
   "cell_type": "markdown",
   "metadata": {},
   "source": [
    "results_df1 = pd.DataFrame.from_records(results_df,columns=['TransactionID','isFraud'],nrows=len(results_df))"
   ]
  }
 ],
 "metadata": {
  "kernelspec": {
   "display_name": "Python 3",
   "language": "python",
   "name": "python3"
  },
  "language_info": {
   "codemirror_mode": {
    "name": "ipython",
    "version": 3
   },
   "file_extension": ".py",
   "mimetype": "text/x-python",
   "name": "python",
   "nbconvert_exporter": "python",
   "pygments_lexer": "ipython3",
   "version": "3.7.3"
  }
 },
 "nbformat": 4,
 "nbformat_minor": 2
}

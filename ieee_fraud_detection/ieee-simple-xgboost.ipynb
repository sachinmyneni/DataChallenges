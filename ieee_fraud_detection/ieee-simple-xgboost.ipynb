{
 "cells": [
  {
   "cell_type": "code",
   "execution_count": 1,
   "metadata": {
    "_cell_guid": "b1076dfc-b9ad-4769-8c92-a6c4dae69d19",
    "_uuid": "8f2839f25d086af736a60e9eeb907d3b93b6e0e5"
   },
   "outputs": [],
   "source": [
    "import numpy as np # linear algebra\n",
    "import pandas as pd # data processing, CSV file I/O (e.g. pd.read_csv)\n",
    "import matplotlib.pyplot as plt\n",
    "from sklearn.model_selection import train_test_split, cross_val_score\n",
    "from sklearn.metrics import confusion_matrix, classification_report\n",
    "from sklearn.metrics import roc_auc_score, roc_curve\n",
    "import xgboost as xgb\n",
    "import pickle"
   ]
  },
  {
   "cell_type": "code",
   "execution_count": 2,
   "metadata": {},
   "outputs": [],
   "source": [
    "def splitData():\n",
    "    df_train_neg = df_train.loc[df_train['isFraud'] == 0]\n",
    "    df_train_pos = df_train.loc[df_train['isFraud'] == 1]\n",
    "    \n",
    "    split = 0.2\n",
    "    x_train_pos, x_val_pos = train_test_split(df_train_pos, test_size=split, random_state=42)\n",
    "    x_train_neg, x_val_neg = train_test_split(df_train_neg, test_size=split, random_state=42)\n",
    "    \n",
    "    #downsample the majority to achieve 1:1 class distribution\n",
    "    x_train_neg = x_train_neg.sample(frac=1/27)\n",
    "    x_val_neg   = x_val_neg.sample(frac=1/27)\n",
    "    \n",
    "    #combine and reshuffle training and validation sets\n",
    "    x_train = (x_train_pos.append(x_train_neg)).sample(frac=1)\n",
    "    x_val   = (x_val_pos.append(x_val_neg)).sample(frac=1)\n",
    "    \n",
    "    y_train = x_train.pop('isFraud')\n",
    "    y_val   = x_val.pop('isFraud')\n",
    "    \n",
    "    return x_train, x_val, y_train, y_val"
   ]
  },
  {
   "cell_type": "code",
   "execution_count": 3,
   "metadata": {},
   "outputs": [],
   "source": [
    "# array of tuples: train and test in each tuple.\n",
    "with open('df_test_cleaned.pickle','rb') as f:\n",
    "    df_test = pickle.load(f)\n",
    "with open('df_train_cleaned.pickle','rb') as g:\n",
    "    df_train = pickle.load(g)\n",
    "with open('df_test_transactionids.pickle','rb') as h:\n",
    "    df_test_transactionids = pickle.load(h)"
   ]
  },
  {
   "cell_type": "code",
   "execution_count": 4,
   "metadata": {},
   "outputs": [],
   "source": [
    "X_train, X_test, y_train, y_test = splitData()"
   ]
  },
  {
   "cell_type": "markdown",
   "metadata": {},
   "source": [
    "# Label Encoding\n",
    "for f in X_train.columns:\n",
    "    if X_train[f].dtype=='object' or X_test[f].dtype=='object': \n",
    "        lbl = preprocessing.LabelEncoder()\n",
    "        lbl.fit(list(X_train[f].values) + list(X_test[f].values))\n",
    "        X_train[f] = lbl.transform(list(X_train[f].values))\n",
    "        X_test[f] = lbl.transform(list(X_test[f].values))   "
   ]
  },
  {
   "cell_type": "code",
   "execution_count": 5,
   "metadata": {},
   "outputs": [
    {
     "data": {
      "text/plain": [
       "XGBClassifier(base_score=0.5, booster='gbtree', colsample_bylevel=1,\n",
       "       colsample_bynode=1, colsample_bytree=0.9, gamma=0,\n",
       "       learning_rate=0.05, max_delta_step=0, max_depth=9,\n",
       "       min_child_weight=1, missing=-999, n_estimators=500, n_jobs=4,\n",
       "       nthread=None, objective='binary:logistic', random_state=0,\n",
       "       reg_alpha=0, reg_lambda=1, scale_pos_weight=1, seed=None,\n",
       "       silent=None, subsample=0.9, verbosity=1)"
      ]
     },
     "execution_count": 5,
     "metadata": {},
     "output_type": "execute_result"
    }
   ],
   "source": [
    "clf = xgb.XGBClassifier(n_estimators=500,\n",
    "                        n_jobs=4,\n",
    "                        max_depth=9,\n",
    "                        learning_rate=0.05,\n",
    "                        subsample=0.9,\n",
    "                        colsample_bytree=0.9,\n",
    "                        missing=-999)\n",
    "\n",
    "clf.fit(X_train, y_train)"
   ]
  },
  {
   "cell_type": "code",
   "execution_count": 8,
   "metadata": {},
   "outputs": [
    {
     "name": "stdout",
     "output_type": "stream",
     "text": [
      "[[3787  434]\n",
      " [ 590 3543]]\n",
      "              precision    recall  f1-score   support\n",
      "\n",
      "           0       0.87      0.90      0.88      4221\n",
      "           1       0.89      0.86      0.87      4133\n",
      "\n",
      "   micro avg       0.88      0.88      0.88      8354\n",
      "   macro avg       0.88      0.88      0.88      8354\n",
      "weighted avg       0.88      0.88      0.88      8354\n",
      "\n"
     ]
    },
    {
     "data": {
      "image/png": "[encoded data removed]",
      "text/plain": [
       "<Figure size 432x288 with 1 Axes>"
      ]
     },
     "metadata": {
      "needs_background": "light"
     },
     "output_type": "display_data"
    },
    {
     "name": "stdout",
     "output_type": "stream",
     "text": [
      "AUC: 0.9480743426072431\n",
      "AUC scores computed using 5-fold cross-validation: [0.88519137 0.92613367 0.92046631 0.93711828 0.9111496 ]\n"
     ]
    }
   ],
   "source": [
    "        # P R E D I C T\n",
    "        # Predict the labels of the test set: y_pred\n",
    "        y_pred = clf.predict(X_test)\n",
    "        #\n",
    "        # E V A L U A T E\n",
    "        #\n",
    "        # Compute and print the confusion matrix and classification report\n",
    "        print(confusion_matrix(y_test, y_pred))\n",
    "        print(classification_report(y_test, y_pred))\n",
    "\n",
    "        # R O C \n",
    "        # Compute predicted probabilities: y_pred_prob\n",
    "        y_pred_prob = clf.predict_proba(X_test)[:,1]\n",
    "\n",
    "        # Generate ROC curve values: fpr, tpr, thresholds\n",
    "        fpr, tpr, thresholds = roc_curve(y_test, y_pred_prob)\n",
    "\n",
    "        # Plot ROC curve\n",
    "        plt.plot([0, 1], [0, 1], 'k--')\n",
    "        plt.plot(fpr, tpr)\n",
    "        plt.xlabel('False Positive Rate')\n",
    "        plt.ylabel('True Positive Rate')\n",
    "        plt.title('ROC Curve - XGBoost')\n",
    "        plt.show()        \n",
    "        \n",
    "        # Compute and print AUC score\n",
    "        print(\"AUC: {}\".format(roc_auc_score(y_test, y_pred_prob)))\n",
    "\n",
    "        # Compute cross-validated AUC scores: cv_auc\n",
    "        X = df_train.drop('isFraud',axis=1)\n",
    "        y = df_train['isFraud']\n",
    "        cv_auc = cross_val_score(clf,X,y,scoring='roc_auc',cv=5)\n",
    "        # Print list of AUC scores\n",
    "        print(\"AUC scores computed using 5-fold cross-validation: {}\".format(cv_auc))\n",
    "        \n",
    "        y_real_pred = clf.predict_proba(df_test)[:,1]\n",
    "        results_dict = dict(zip(df_test_transactionids.to_list(),y_real_pred))\n",
    "        items = results_dict.items()\n",
    "        results_df = pd.DataFrame({'TransactionID': [i[0] for i in items], 'isFraud': [i[1] for i in items]})\n",
    "        csv_name = 'results_xgboost.csv'\n",
    "        results_df.to_csv(csv_name,index=False)\n"
   ]
  },
  {
   "cell_type": "markdown",
   "metadata": {},
   "source": [
    "sample_submission['isFraud'] = clf.predict_proba(X_test)[:,1]\n",
    "sample_submission.to_csv('simple_xgboost.csv')"
   ]
  }
 ],
 "metadata": {
  "kernelspec": {
   "display_name": "Python 3",
   "language": "python",
   "name": "python3"
  },
  "language_info": {
   "codemirror_mode": {
    "name": "ipython",
    "version": 3
   },
   "file_extension": ".py",
   "mimetype": "text/x-python",
   "name": "python",
   "nbconvert_exporter": "python",
   "pygments_lexer": "ipython3",
   "version": "3.7.3"
  }
 },
 "nbformat": 4,
 "nbformat_minor": 1
}

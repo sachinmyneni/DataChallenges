{
 "cells": [
  {
   "cell_type": "code",
   "execution_count": 1,
   "metadata": {},
   "outputs": [],
   "source": [
    "import pandas as pd\n",
    "import numpy as np\n",
    "import matplotlib.pyplot as plt\n",
    "from matplotlib_venn import venn2"
   ]
  },
  {
   "cell_type": "code",
   "execution_count": 2,
   "metadata": {},
   "outputs": [],
   "source": [
    "df1 = pd.read_csv('data/train_identity.csv.gz')\n",
    "df2 = pd.read_csv('data/train_transaction.csv.gz')"
   ]
  },
  {
   "cell_type": "code",
   "execution_count": 3,
   "metadata": {},
   "outputs": [],
   "source": [
    "# Using TransactionID as index for both data.\n",
    "df1.set_index('TransactionID',inplace=True)\n",
    "df2.set_index('TransactionID',inplace=True)"
   ]
  },
  {
   "cell_type": "markdown",
   "metadata": {},
   "source": [
    "## Looking at the data to check out the values, null value count etc."
   ]
  },
  {
   "cell_type": "code",
   "execution_count": 4,
   "metadata": {},
   "outputs": [
    {
     "data": {
      "text/html": [
       "<div>\n",
       "<style scoped>\n",
       "    .dataframe tbody tr th:only-of-type {\n",
       "        vertical-align: middle;\n",
       "    }\n",
       "\n",
       "    .dataframe tbody tr th {\n",
       "        vertical-align: top;\n",
       "    }\n",
       "\n",
       "    .dataframe thead th {\n",
       "        text-align: right;\n",
       "    }\n",
       "</style>\n",
       "<table border=\"1\" class=\"dataframe\">\n",
       "  <thead>\n",
       "    <tr style=\"text-align: right;\">\n",
       "      <th></th>\n",
       "      <th>id_01</th>\n",
       "      <th>id_02</th>\n",
       "      <th>id_03</th>\n",
       "      <th>id_04</th>\n",
       "      <th>id_05</th>\n",
       "      <th>id_06</th>\n",
       "      <th>id_07</th>\n",
       "      <th>id_08</th>\n",
       "      <th>id_09</th>\n",
       "      <th>id_10</th>\n",
       "      <th>...</th>\n",
       "      <th>id_31</th>\n",
       "      <th>id_32</th>\n",
       "      <th>id_33</th>\n",
       "      <th>id_34</th>\n",
       "      <th>id_35</th>\n",
       "      <th>id_36</th>\n",
       "      <th>id_37</th>\n",
       "      <th>id_38</th>\n",
       "      <th>DeviceType</th>\n",
       "      <th>DeviceInfo</th>\n",
       "    </tr>\n",
       "    <tr>\n",
       "      <th>TransactionID</th>\n",
       "      <th></th>\n",
       "      <th></th>\n",
       "      <th></th>\n",
       "      <th></th>\n",
       "      <th></th>\n",
       "      <th></th>\n",
       "      <th></th>\n",
       "      <th></th>\n",
       "      <th></th>\n",
       "      <th></th>\n",
       "      <th></th>\n",
       "      <th></th>\n",
       "      <th></th>\n",
       "      <th></th>\n",
       "      <th></th>\n",
       "      <th></th>\n",
       "      <th></th>\n",
       "      <th></th>\n",
       "      <th></th>\n",
       "      <th></th>\n",
       "      <th></th>\n",
       "    </tr>\n",
       "  </thead>\n",
       "  <tbody>\n",
       "    <tr>\n",
       "      <th>2987004</th>\n",
       "      <td>0.0</td>\n",
       "      <td>70787.0</td>\n",
       "      <td>NaN</td>\n",
       "      <td>NaN</td>\n",
       "      <td>NaN</td>\n",
       "      <td>NaN</td>\n",
       "      <td>NaN</td>\n",
       "      <td>NaN</td>\n",
       "      <td>NaN</td>\n",
       "      <td>NaN</td>\n",
       "      <td>...</td>\n",
       "      <td>samsung browser 6.2</td>\n",
       "      <td>32.0</td>\n",
       "      <td>2220x1080</td>\n",
       "      <td>match_status:2</td>\n",
       "      <td>T</td>\n",
       "      <td>F</td>\n",
       "      <td>T</td>\n",
       "      <td>T</td>\n",
       "      <td>mobile</td>\n",
       "      <td>SAMSUNG SM-G892A Build/NRD90M</td>\n",
       "    </tr>\n",
       "    <tr>\n",
       "      <th>2987008</th>\n",
       "      <td>-5.0</td>\n",
       "      <td>98945.0</td>\n",
       "      <td>NaN</td>\n",
       "      <td>NaN</td>\n",
       "      <td>0.0</td>\n",
       "      <td>-5.0</td>\n",
       "      <td>NaN</td>\n",
       "      <td>NaN</td>\n",
       "      <td>NaN</td>\n",
       "      <td>NaN</td>\n",
       "      <td>...</td>\n",
       "      <td>mobile safari 11.0</td>\n",
       "      <td>32.0</td>\n",
       "      <td>1334x750</td>\n",
       "      <td>match_status:1</td>\n",
       "      <td>T</td>\n",
       "      <td>F</td>\n",
       "      <td>F</td>\n",
       "      <td>T</td>\n",
       "      <td>mobile</td>\n",
       "      <td>iOS Device</td>\n",
       "    </tr>\n",
       "    <tr>\n",
       "      <th>2987010</th>\n",
       "      <td>-5.0</td>\n",
       "      <td>191631.0</td>\n",
       "      <td>0.0</td>\n",
       "      <td>0.0</td>\n",
       "      <td>0.0</td>\n",
       "      <td>0.0</td>\n",
       "      <td>NaN</td>\n",
       "      <td>NaN</td>\n",
       "      <td>0.0</td>\n",
       "      <td>0.0</td>\n",
       "      <td>...</td>\n",
       "      <td>chrome 62.0</td>\n",
       "      <td>NaN</td>\n",
       "      <td>NaN</td>\n",
       "      <td>NaN</td>\n",
       "      <td>F</td>\n",
       "      <td>F</td>\n",
       "      <td>T</td>\n",
       "      <td>T</td>\n",
       "      <td>desktop</td>\n",
       "      <td>Windows</td>\n",
       "    </tr>\n",
       "    <tr>\n",
       "      <th>2987011</th>\n",
       "      <td>-5.0</td>\n",
       "      <td>221832.0</td>\n",
       "      <td>NaN</td>\n",
       "      <td>NaN</td>\n",
       "      <td>0.0</td>\n",
       "      <td>-6.0</td>\n",
       "      <td>NaN</td>\n",
       "      <td>NaN</td>\n",
       "      <td>NaN</td>\n",
       "      <td>NaN</td>\n",
       "      <td>...</td>\n",
       "      <td>chrome 62.0</td>\n",
       "      <td>NaN</td>\n",
       "      <td>NaN</td>\n",
       "      <td>NaN</td>\n",
       "      <td>F</td>\n",
       "      <td>F</td>\n",
       "      <td>T</td>\n",
       "      <td>T</td>\n",
       "      <td>desktop</td>\n",
       "      <td>NaN</td>\n",
       "    </tr>\n",
       "    <tr>\n",
       "      <th>2987016</th>\n",
       "      <td>0.0</td>\n",
       "      <td>7460.0</td>\n",
       "      <td>0.0</td>\n",
       "      <td>0.0</td>\n",
       "      <td>1.0</td>\n",
       "      <td>0.0</td>\n",
       "      <td>NaN</td>\n",
       "      <td>NaN</td>\n",
       "      <td>0.0</td>\n",
       "      <td>0.0</td>\n",
       "      <td>...</td>\n",
       "      <td>chrome 62.0</td>\n",
       "      <td>24.0</td>\n",
       "      <td>1280x800</td>\n",
       "      <td>match_status:2</td>\n",
       "      <td>T</td>\n",
       "      <td>F</td>\n",
       "      <td>T</td>\n",
       "      <td>T</td>\n",
       "      <td>desktop</td>\n",
       "      <td>MacOS</td>\n",
       "    </tr>\n",
       "  </tbody>\n",
       "</table>\n",
       "<p>5 rows × 40 columns</p>\n",
       "</div>"
      ],
      "text/plain": [
       "               id_01     id_02  id_03  id_04  id_05  id_06  id_07  id_08  \\\n",
       "TransactionID                                                              \n",
       "2987004          0.0   70787.0    NaN    NaN    NaN    NaN    NaN    NaN   \n",
       "2987008         -5.0   98945.0    NaN    NaN    0.0   -5.0    NaN    NaN   \n",
       "2987010         -5.0  191631.0    0.0    0.0    0.0    0.0    NaN    NaN   \n",
       "2987011         -5.0  221832.0    NaN    NaN    0.0   -6.0    NaN    NaN   \n",
       "2987016          0.0    7460.0    0.0    0.0    1.0    0.0    NaN    NaN   \n",
       "\n",
       "               id_09  id_10  ...                id_31 id_32      id_33  \\\n",
       "TransactionID                ...                                         \n",
       "2987004          NaN    NaN  ...  samsung browser 6.2  32.0  2220x1080   \n",
       "2987008          NaN    NaN  ...   mobile safari 11.0  32.0   1334x750   \n",
       "2987010          0.0    0.0  ...          chrome 62.0   NaN        NaN   \n",
       "2987011          NaN    NaN  ...          chrome 62.0   NaN        NaN   \n",
       "2987016          0.0    0.0  ...          chrome 62.0  24.0   1280x800   \n",
       "\n",
       "                        id_34 id_35 id_36  id_37  id_38  DeviceType  \\\n",
       "TransactionID                                                         \n",
       "2987004        match_status:2     T     F      T      T      mobile   \n",
       "2987008        match_status:1     T     F      F      T      mobile   \n",
       "2987010                   NaN     F     F      T      T     desktop   \n",
       "2987011                   NaN     F     F      T      T     desktop   \n",
       "2987016        match_status:2     T     F      T      T     desktop   \n",
       "\n",
       "                                  DeviceInfo  \n",
       "TransactionID                                 \n",
       "2987004        SAMSUNG SM-G892A Build/NRD90M  \n",
       "2987008                           iOS Device  \n",
       "2987010                              Windows  \n",
       "2987011                                  NaN  \n",
       "2987016                                MacOS  \n",
       "\n",
       "[5 rows x 40 columns]"
      ]
     },
     "execution_count": 4,
     "metadata": {},
     "output_type": "execute_result"
    }
   ],
   "source": [
    "df1.head()"
   ]
  },
  {
   "cell_type": "code",
   "execution_count": 5,
   "metadata": {},
   "outputs": [
    {
     "data": {
      "text/plain": [
       "<bound method DataFrame.info of                id_01     id_02  id_03  id_04  id_05  id_06  id_07  id_08  \\\n",
       "TransactionID                                                              \n",
       "2987004          0.0   70787.0    NaN    NaN    NaN    NaN    NaN    NaN   \n",
       "2987008         -5.0   98945.0    NaN    NaN    0.0   -5.0    NaN    NaN   \n",
       "2987010         -5.0  191631.0    0.0    0.0    0.0    0.0    NaN    NaN   \n",
       "2987011         -5.0  221832.0    NaN    NaN    0.0   -6.0    NaN    NaN   \n",
       "2987016          0.0    7460.0    0.0    0.0    1.0    0.0    NaN    NaN   \n",
       "2987017         -5.0   61141.0    3.0    0.0    3.0    0.0    NaN    NaN   \n",
       "2987022        -15.0       NaN    NaN    NaN    NaN    NaN    NaN    NaN   \n",
       "2987038          0.0   31964.0    0.0    0.0    0.0  -10.0    NaN    NaN   \n",
       "2987040        -10.0  116098.0    0.0    0.0    0.0    0.0    NaN    NaN   \n",
       "2987048         -5.0  257037.0    NaN    NaN    0.0    0.0    NaN    NaN   \n",
       "2987049         -5.0  287959.0    NaN    NaN    1.0  -11.0    NaN    NaN   \n",
       "2987057          0.0   88525.0    NaN    NaN    NaN    NaN    NaN    NaN   \n",
       "2987066         -5.0   54927.0    0.0    0.0    0.0   -1.0    NaN    NaN   \n",
       "2987069          0.0   69542.0    0.0    0.0    2.0   -4.0    NaN    NaN   \n",
       "2987070          0.0  132356.0    NaN    NaN    1.0   -6.0    NaN    NaN   \n",
       "2987072          0.0  275611.0    NaN    NaN    0.0    0.0    NaN    NaN   \n",
       "2987074         -5.0  419136.0    NaN    NaN    0.0    0.0    NaN    NaN   \n",
       "2987084         -5.0  436352.0    NaN    NaN    0.0    0.0    NaN    NaN   \n",
       "2987093         -5.0   34810.0    NaN    NaN    1.0    0.0    NaN    NaN   \n",
       "2987099        -10.0  129080.0    0.0    0.0    9.0  -43.0   22.0  -34.0   \n",
       "2987100          0.0  264818.0    NaN    NaN    0.0    0.0    NaN    NaN   \n",
       "2987101          0.0   49557.0    0.0    0.0    0.0    0.0    NaN    NaN   \n",
       "2987104          0.0   30696.0    0.0    0.0    0.0    0.0    NaN    NaN   \n",
       "2987105          0.0  194580.0    NaN    NaN   12.0   -6.0    NaN    NaN   \n",
       "2987108        -15.0       NaN    NaN    NaN    NaN    NaN    NaN    NaN   \n",
       "2987111         -5.0  252899.0    NaN    NaN    0.0    0.0    NaN    NaN   \n",
       "2987114         -5.0  190935.0    0.0    0.0    6.0   -9.0    NaN    NaN   \n",
       "2987119          0.0   23923.0    0.0    0.0    0.0    0.0    NaN    NaN   \n",
       "2987121          0.0   18305.0    2.0    0.0    2.0    0.0    NaN    NaN   \n",
       "2987125          0.0   32876.0    2.0    0.0    2.0    0.0    NaN    NaN   \n",
       "...              ...       ...    ...    ...    ...    ...    ...    ...   \n",
       "3577354        -25.0  229668.0    0.0    0.0   -5.0  -20.0    NaN    NaN   \n",
       "3577364         -5.0  183132.0    NaN    NaN    0.0    0.0    NaN    NaN   \n",
       "3577365        -10.0  112037.0    0.0    0.0    1.0    0.0    NaN    NaN   \n",
       "3577368         -5.0  214747.0    NaN    NaN    0.0    0.0    NaN    NaN   \n",
       "3577384        -20.0   50886.0    0.0    0.0   13.0  -34.0   39.0 -100.0   \n",
       "3577397         -5.0  313942.0    0.0    0.0    0.0    0.0    NaN    NaN   \n",
       "3577410         -5.0  211823.0    NaN    NaN    6.0    0.0    NaN    NaN   \n",
       "3577418        -45.0  118160.0    NaN    NaN   10.0   -9.0    NaN    NaN   \n",
       "3577437         -5.0   72127.0    NaN    NaN    0.0    0.0    NaN    NaN   \n",
       "3577440         -5.0   76483.0    NaN    NaN    2.0    0.0    NaN    NaN   \n",
       "3577442        -20.0   89189.0    NaN    NaN    NaN    NaN   14.0  -24.0   \n",
       "3577445         -5.0  107251.0    0.0    0.0    6.0    0.0    NaN    NaN   \n",
       "3577447         -5.0   43053.0    0.0    0.0    0.0    0.0    NaN    NaN   \n",
       "3577451        -25.0  130543.0    NaN    NaN   -2.0  -33.0   12.0  -51.0   \n",
       "3577465         -5.0  111397.0    NaN    NaN    0.0    0.0    NaN    NaN   \n",
       "3577469        -10.0   62155.0    0.0    0.0    0.0    0.0    NaN    NaN   \n",
       "3577472         -5.0  345613.0    NaN    NaN  -11.0  -30.0    NaN    NaN   \n",
       "3577476        -10.0   81665.0    0.0    0.0    0.0    0.0    NaN    NaN   \n",
       "3577478         -5.0  109718.0    NaN    NaN   14.0  -20.0    NaN    NaN   \n",
       "3577486         -5.0  599833.0    NaN    NaN    0.0    0.0    NaN    NaN   \n",
       "3577495         -5.0   56061.0    0.0    0.0    0.0    0.0    NaN    NaN   \n",
       "3577499         -5.0   89753.0    0.0    0.0    0.0    0.0    NaN    NaN   \n",
       "3577501         -5.0   59763.0    0.0    0.0    0.0    0.0    NaN    NaN   \n",
       "3577506          0.0   82599.0    0.0    0.0    0.0    0.0    NaN    NaN   \n",
       "3577509         -5.0  253305.0    0.0    0.0    0.0  -30.0    NaN    NaN   \n",
       "3577521        -15.0  145955.0    0.0    0.0    0.0    0.0    NaN    NaN   \n",
       "3577526         -5.0  172059.0    NaN    NaN    1.0   -5.0    NaN    NaN   \n",
       "3577529        -20.0  632381.0    NaN    NaN   -1.0  -36.0    NaN    NaN   \n",
       "3577531         -5.0   55528.0    0.0    0.0    0.0   -7.0    NaN    NaN   \n",
       "3577534        -45.0  339406.0    NaN    NaN  -10.0 -100.0    NaN    NaN   \n",
       "\n",
       "               id_09  id_10  ...                    id_31 id_32      id_33  \\\n",
       "TransactionID                ...                                             \n",
       "2987004          NaN    NaN  ...      samsung browser 6.2  32.0  2220x1080   \n",
       "2987008          NaN    NaN  ...       mobile safari 11.0  32.0   1334x750   \n",
       "2987010          0.0    0.0  ...              chrome 62.0   NaN        NaN   \n",
       "2987011          NaN    NaN  ...              chrome 62.0   NaN        NaN   \n",
       "2987016          0.0    0.0  ...              chrome 62.0  24.0   1280x800   \n",
       "2987017          3.0    0.0  ...              chrome 62.0  24.0   1366x768   \n",
       "2987022          NaN    NaN  ...                      NaN   NaN        NaN   \n",
       "2987038          0.0    0.0  ...              chrome 62.0  32.0  1920x1080   \n",
       "2987040          0.0    0.0  ...              chrome 62.0   NaN        NaN   \n",
       "2987048          NaN    NaN  ...              chrome 62.0   NaN        NaN   \n",
       "2987049          NaN    NaN  ...              chrome 62.0   NaN        NaN   \n",
       "2987057          NaN    NaN  ...  chrome 62.0 for android  32.0  1920x1080   \n",
       "2987066          0.0    0.0  ...              chrome 62.0  24.0  1680x1050   \n",
       "2987069          0.0    0.0  ...              chrome 62.0  32.0  1920x1080   \n",
       "2987070          NaN    NaN  ...       mobile safari 11.0  32.0   1136x640   \n",
       "2987072          NaN    NaN  ...  chrome 62.0 for android   NaN        NaN   \n",
       "2987074          NaN    NaN  ...              chrome 62.0   NaN        NaN   \n",
       "2987084          NaN    NaN  ...              chrome 62.0   NaN        NaN   \n",
       "2987093          0.0    0.0  ...                edge 15.0  24.0        NaN   \n",
       "2987099          0.0    0.0  ...    mobile safari generic  32.0   1334x750   \n",
       "2987100          NaN    NaN  ...  chrome 62.0 for android  32.0  1920x1080   \n",
       "2987101          0.0    0.0  ...              chrome 49.0  24.0   1280x800   \n",
       "2987104          0.0    0.0  ...  chrome 62.0 for android  32.0  1920x1080   \n",
       "2987105          NaN    NaN  ...  chrome 62.0 for android   NaN        NaN   \n",
       "2987108          NaN    NaN  ...                      NaN   NaN        NaN   \n",
       "2987111          0.0    0.0  ...              chrome 62.0   NaN        NaN   \n",
       "2987114          0.0    0.0  ...              chrome 62.0   NaN        NaN   \n",
       "2987119          0.0    0.0  ...              chrome 61.0  24.0  5120x2880   \n",
       "2987121          2.0    0.0  ...              chrome 62.0  24.0  2880x1800   \n",
       "2987125          2.0    0.0  ...              chrome 62.0  24.0  2880x1800   \n",
       "...              ...    ...  ...                      ...   ...        ...   \n",
       "3577354          0.0    0.0  ...  chrome 66.0 for android   NaN        NaN   \n",
       "3577364          NaN    NaN  ...      samsung browser 6.4   NaN        NaN   \n",
       "3577365          0.0    0.0  ...             firefox 60.0   NaN        NaN   \n",
       "3577368          NaN    NaN  ...       mobile safari 11.0  32.0  2208x1242   \n",
       "3577384          0.0    0.0  ...       mobile safari 11.0  32.0  2436x1125   \n",
       "3577397          0.0    0.0  ...              chrome 66.0   NaN        NaN   \n",
       "3577410          NaN    NaN  ...       mobile safari 11.0  32.0   1334x750   \n",
       "3577418          NaN    NaN  ...  chrome 66.0 for android  24.0  1920x1080   \n",
       "3577437          NaN    NaN  ...              chrome 66.0   NaN        NaN   \n",
       "3577440          3.0    0.0  ...              chrome 66.0  24.0  2560x1600   \n",
       "3577442          0.0    0.0  ...      ie 11.0 for desktop  24.0   1024x768   \n",
       "3577445          0.0    0.0  ...              safari 11.0  24.0   1440x900   \n",
       "3577447          0.0    0.0  ...              chrome 66.0  24.0  1280x1024   \n",
       "3577451          NaN    NaN  ...                   google  32.0  2001x1125   \n",
       "3577465          NaN    NaN  ...              safari 11.0  24.0  2560x1440   \n",
       "3577469          0.0    0.0  ...              chrome 65.0   NaN        NaN   \n",
       "3577472          NaN    NaN  ...  chrome 66.0 for android   NaN        NaN   \n",
       "3577476          0.0    0.0  ...              chrome 65.0   NaN        NaN   \n",
       "3577478          0.0    0.0  ...              chrome 62.0   NaN        NaN   \n",
       "3577486          NaN    NaN  ...  chrome 67.0 for android   NaN        NaN   \n",
       "3577495          0.0    0.0  ...              chrome 66.0  24.0  1280x1024   \n",
       "3577499          0.0    0.0  ...             firefox 60.0   NaN        NaN   \n",
       "3577501          0.0    0.0  ...             firefox 60.0   NaN        NaN   \n",
       "3577506          0.0    0.0  ...      ie 11.0 for desktop  24.0   1600x900   \n",
       "3577509          0.0    0.0  ...  chrome 66.0 for android   NaN        NaN   \n",
       "3577521          0.0    0.0  ...  chrome 66.0 for android   NaN        NaN   \n",
       "3577526          NaN    NaN  ...  chrome 55.0 for android  32.0    855x480   \n",
       "3577529          NaN    NaN  ...  chrome 65.0 for android   NaN        NaN   \n",
       "3577531          0.0    0.0  ...              chrome 66.0  24.0  2560x1600   \n",
       "3577534          NaN    NaN  ...  chrome 66.0 for android   NaN        NaN   \n",
       "\n",
       "                        id_34 id_35 id_36  id_37  id_38  DeviceType  \\\n",
       "TransactionID                                                         \n",
       "2987004        match_status:2     T     F      T      T      mobile   \n",
       "2987008        match_status:1     T     F      F      T      mobile   \n",
       "2987010                   NaN     F     F      T      T     desktop   \n",
       "2987011                   NaN     F     F      T      T     desktop   \n",
       "2987016        match_status:2     T     F      T      T     desktop   \n",
       "2987017        match_status:2     T     F      T      T     desktop   \n",
       "2987022                   NaN   NaN   NaN    NaN    NaN         NaN   \n",
       "2987038        match_status:2     T     F      T      T      mobile   \n",
       "2987040                   NaN     F     F      T      T     desktop   \n",
       "2987048                   NaN     F     F      T      T     desktop   \n",
       "2987049                   NaN     F     F      T      T     desktop   \n",
       "2987057        match_status:2     T     F      T      T      mobile   \n",
       "2987066        match_status:2     T     F      T      T     desktop   \n",
       "2987069        match_status:2     T     F      T      T     desktop   \n",
       "2987070        match_status:1     T     F      T      T      mobile   \n",
       "2987072                   NaN     F     F      T      T      mobile   \n",
       "2987074                   NaN     F     F      T      T     desktop   \n",
       "2987084                   NaN     F     F      T      T     desktop   \n",
       "2987093        match_status:2     T     F      T      T     desktop   \n",
       "2987099        match_status:2     T     F      T      F      mobile   \n",
       "2987100        match_status:2     T     F      T      T      mobile   \n",
       "2987101        match_status:2     T     T      T      T     desktop   \n",
       "2987104        match_status:2     T     F      T      T      mobile   \n",
       "2987105                   NaN     F     F      T      T      mobile   \n",
       "2987108                   NaN   NaN   NaN    NaN    NaN         NaN   \n",
       "2987111                   NaN     F     F      T      T     desktop   \n",
       "2987114                   NaN     F     F      T      T     desktop   \n",
       "2987119        match_status:2     T     F      T      T     desktop   \n",
       "2987121        match_status:2     T     F      T      T     desktop   \n",
       "2987125        match_status:2     T     F      T      T     desktop   \n",
       "...                       ...   ...   ...    ...    ...         ...   \n",
       "3577354                   NaN     F     F      T      F      mobile   \n",
       "3577364                   NaN     F     F      T      F      mobile   \n",
       "3577365                   NaN     F     F      T      F     desktop   \n",
       "3577368        match_status:1     T     F      F      T      mobile   \n",
       "3577384        match_status:1     T     F      T      T      mobile   \n",
       "3577397                   NaN     F     F      T      F     desktop   \n",
       "3577410        match_status:2     T     F      F      T      mobile   \n",
       "3577418        match_status:2     T     F      T      F      mobile   \n",
       "3577437                   NaN     F     F      T      F     desktop   \n",
       "3577440        match_status:2     T     F      T      F     desktop   \n",
       "3577442                   NaN     T     F      F      T     desktop   \n",
       "3577445        match_status:1     T     F      F      T     desktop   \n",
       "3577447        match_status:2     T     F      T      T     desktop   \n",
       "3577451        match_status:2     T     F      T      F      mobile   \n",
       "3577465        match_status:2     T     F      F      F     desktop   \n",
       "3577469                   NaN     F     F      T      F     desktop   \n",
       "3577472                   NaN     F     F      T      F      mobile   \n",
       "3577476                   NaN     F     F      T      F     desktop   \n",
       "3577478                   NaN     F     F      T      F     desktop   \n",
       "3577486                   NaN     F     F      T      F      mobile   \n",
       "3577495        match_status:2     T     F      T      T     desktop   \n",
       "3577499                   NaN     F     F      T      F     desktop   \n",
       "3577501                   NaN     F     F      T      F     desktop   \n",
       "3577506        match_status:2     T     T      T      T     desktop   \n",
       "3577509                   NaN     F     F      T      F      mobile   \n",
       "3577521                   NaN     F     F      T      F      mobile   \n",
       "3577526        match_status:2     T     F      T      F      mobile   \n",
       "3577529                   NaN     F     F      T      F      mobile   \n",
       "3577531        match_status:2     T     F      T      F     desktop   \n",
       "3577534                   NaN     F     F      T      F      mobile   \n",
       "\n",
       "                                       DeviceInfo  \n",
       "TransactionID                                      \n",
       "2987004             SAMSUNG SM-G892A Build/NRD90M  \n",
       "2987008                                iOS Device  \n",
       "2987010                                   Windows  \n",
       "2987011                                       NaN  \n",
       "2987016                                     MacOS  \n",
       "2987017                                   Windows  \n",
       "2987022                                       NaN  \n",
       "2987038                                       NaN  \n",
       "2987040                                   Windows  \n",
       "2987048                                   Windows  \n",
       "2987049                                   Windows  \n",
       "2987057                     SM-G930V Build/NRD90M  \n",
       "2987066                                   Windows  \n",
       "2987069                                       NaN  \n",
       "2987070                                iOS Device  \n",
       "2987072                   BLADE A602 Build/MRA58K  \n",
       "2987074                                   Windows  \n",
       "2987084                                   Windows  \n",
       "2987093                                   Windows  \n",
       "2987099                                iOS Device  \n",
       "2987100                     SM-G930V Build/NRD90M  \n",
       "2987101                                     MacOS  \n",
       "2987104                     SM-G930V Build/NRD90M  \n",
       "2987105            XT1635-02 Build/NPN26.118-22-2  \n",
       "2987108                                       NaN  \n",
       "2987111                                   Windows  \n",
       "2987114                                   Windows  \n",
       "2987119                                     MacOS  \n",
       "2987121                                     MacOS  \n",
       "2987125                                     MacOS  \n",
       "...                                           ...  \n",
       "3577354                     SM-G610F Build/NRD90M  \n",
       "3577364             SAMSUNG SM-J700M Build/MMB29K  \n",
       "3577365                                   Windows  \n",
       "3577368                                iOS Device  \n",
       "3577384                                iOS Device  \n",
       "3577397                                   Windows  \n",
       "3577410                                iOS Device  \n",
       "3577418                     SM-G930T Build/NRD90M  \n",
       "3577437                                   Windows  \n",
       "3577440                                     MacOS  \n",
       "3577442                               Trident/7.0  \n",
       "3577445                                     MacOS  \n",
       "3577447                                   Windows  \n",
       "3577451                                iOS Device  \n",
       "3577465                                     MacOS  \n",
       "3577469                                   Windows  \n",
       "3577472                     SM-G930F Build/NRD90M  \n",
       "3577476                                   Windows  \n",
       "3577478                                   Windows  \n",
       "3577486                      SM-G950F Build/R16NW  \n",
       "3577495                                   Windows  \n",
       "3577499                                   Windows  \n",
       "3577501                                   Windows  \n",
       "3577506                               Trident/7.0  \n",
       "3577509                     SM-G930F Build/NRD90M  \n",
       "3577521                   F3111 Build/33.3.A.1.97  \n",
       "3577526                       A574BL Build/NMF26F  \n",
       "3577529        Moto E (4) Plus Build/NMA26.42-152  \n",
       "3577531                                     MacOS  \n",
       "3577534               RNE-L03 Build/HUAWEIRNE-L03  \n",
       "\n",
       "[144233 rows x 40 columns]>"
      ]
     },
     "execution_count": 5,
     "metadata": {},
     "output_type": "execute_result"
    }
   ],
   "source": [
    "df1.info"
   ]
  },
  {
   "cell_type": "code",
   "execution_count": 6,
   "metadata": {},
   "outputs": [
    {
     "data": {
      "text/plain": [
       "id_01              0\n",
       "id_02           3361\n",
       "id_03          77909\n",
       "id_04          77909\n",
       "id_05           7368\n",
       "id_06           7368\n",
       "id_07         139078\n",
       "id_08         139078\n",
       "id_09          69307\n",
       "id_10          69307\n",
       "id_11           3255\n",
       "id_12              0\n",
       "id_13          16913\n",
       "id_14          64189\n",
       "id_15           3248\n",
       "id_16          14893\n",
       "id_17           4864\n",
       "id_18          99120\n",
       "id_19           4915\n",
       "id_20           4972\n",
       "id_21         139074\n",
       "id_22         139064\n",
       "id_23         139064\n",
       "id_24         139486\n",
       "id_25         139101\n",
       "id_26         139070\n",
       "id_27         139064\n",
       "id_28           3255\n",
       "id_29           3255\n",
       "id_30          66668\n",
       "id_31           3951\n",
       "id_32          66647\n",
       "id_33          70944\n",
       "id_34          66428\n",
       "id_35           3248\n",
       "id_36           3248\n",
       "id_37           3248\n",
       "id_38           3248\n",
       "DeviceType      3423\n",
       "DeviceInfo     25567\n",
       "dtype: int64"
      ]
     },
     "execution_count": 6,
     "metadata": {},
     "output_type": "execute_result"
    }
   ],
   "source": [
    "\n",
    "df1.isnull().sum(axis=0)"
   ]
  },
  {
   "cell_type": "code",
   "execution_count": 7,
   "metadata": {},
   "outputs": [
    {
     "data": {
      "text/plain": [
       "(144233, 40)"
      ]
     },
     "execution_count": 7,
     "metadata": {},
     "output_type": "execute_result"
    }
   ],
   "source": [
    "df1.shape"
   ]
  },
  {
   "cell_type": "code",
   "execution_count": 8,
   "metadata": {},
   "outputs": [
    {
     "data": {
      "text/plain": [
       "<bound method NDFrame.head of                isFraud  TransactionDT  TransactionAmt ProductCD  card1  card2  \\\n",
       "TransactionID                                                                   \n",
       "2987000              0          86400          68.500         W  13926    NaN   \n",
       "2987001              0          86401          29.000         W   2755  404.0   \n",
       "2987002              0          86469          59.000         W   4663  490.0   \n",
       "2987003              0          86499          50.000         W  18132  567.0   \n",
       "2987004              0          86506          50.000         H   4497  514.0   \n",
       "2987005              0          86510          49.000         W   5937  555.0   \n",
       "2987006              0          86522         159.000         W  12308  360.0   \n",
       "2987007              0          86529         422.500         W  12695  490.0   \n",
       "2987008              0          86535          15.000         H   2803  100.0   \n",
       "2987009              0          86536         117.000         W  17399  111.0   \n",
       "2987010              0          86549          75.887         C  16496  352.0   \n",
       "2987011              0          86555          16.495         C   4461  375.0   \n",
       "2987012              0          86564          50.000         W   3786  418.0   \n",
       "2987013              0          86585          40.000         W  12866  303.0   \n",
       "2987014              0          86596          10.500         W  11839  490.0   \n",
       "2987015              0          86618          57.950         W   7055  555.0   \n",
       "2987016              0          86620          30.000         H   1790  555.0   \n",
       "2987017              0          86668         100.000         H  11492  111.0   \n",
       "2987018              0          86725          47.950         W   4663  490.0   \n",
       "2987019              0          86730         186.000         W   7005  111.0   \n",
       "2987020              0          86761          39.000         W   7875  314.0   \n",
       "2987021              0          86769         159.950         W  11401  543.0   \n",
       "2987022              0          86786          50.000         H   1724  583.0   \n",
       "2987023              0          86808         107.950         W   2392  360.0   \n",
       "2987024              0          86821          73.950         W  10112  360.0   \n",
       "2987025              0          86944         107.950         W  15385  111.0   \n",
       "2987026              0          86945         184.000         W  17868  148.0   \n",
       "2987027              0          86972          47.950         W  11307  321.0   \n",
       "2987028              0          86973          20.000         W   8431  269.0   \n",
       "2987029              0          86979          36.990         W  12932  361.0   \n",
       "...                ...            ...             ...       ...    ...    ...   \n",
       "3577510              0       15810518          24.500         W   9500  321.0   \n",
       "3577511              0       15810549         130.950         W  12059  555.0   \n",
       "3577512              0       15810563         764.000         W  16873  343.0   \n",
       "3577513              0       15810575         107.950         W   2198  555.0   \n",
       "3577514              0       15810578         159.950         W   2487  555.0   \n",
       "3577515              0       15810589         108.500         W   4219  321.0   \n",
       "3577516              0       15810592         760.760         W  17188  321.0   \n",
       "3577517              0       15810626         764.000         W  16873  343.0   \n",
       "3577518              0       15810760          49.000         W  11204  298.0   \n",
       "3577519              0       15810774        1659.950         W  18018  452.0   \n",
       "3577520              0       15810785          93.000         W  17150  292.0   \n",
       "3577521              0       15810802          48.877         C  12019  305.0   \n",
       "3577522              0       15810823          54.500         W   3166  559.0   \n",
       "3577523              0       15810833          58.950         W  13076  456.0   \n",
       "3577524              0       15810836          75.000         W   7826  481.0   \n",
       "3577525              0       15810866          57.950         W  11942  570.0   \n",
       "3577526              1       15810876         250.000         R   1214  174.0   \n",
       "3577527              0       15810883         189.950         W   6453  555.0   \n",
       "3577528              0       15810907         279.950         W  15066  170.0   \n",
       "3577529              0       15810912          73.838         C   5096  555.0   \n",
       "3577530              0       15810926         400.780         W  15066  170.0   \n",
       "3577531              0       15810935         400.000         R   6019  583.0   \n",
       "3577532              0       15811007         204.970         W  12037  595.0   \n",
       "3577533              0       15811029         107.950         W  13071  321.0   \n",
       "3577534              0       15811030          67.505         C   5812  408.0   \n",
       "3577535              0       15811047          49.000         W   6550    NaN   \n",
       "3577536              0       15811049          39.500         W  10444  225.0   \n",
       "3577537              0       15811079          30.950         W  12037  595.0   \n",
       "3577538              0       15811088         117.000         W   7826  481.0   \n",
       "3577539              0       15811131         279.950         W  15066  170.0   \n",
       "\n",
       "               card3       card4  card5   card6  ...  V330  V331  V332  V333  \\\n",
       "TransactionID                                    ...                           \n",
       "2987000        150.0    discover  142.0  credit  ...   NaN   NaN   NaN   NaN   \n",
       "2987001        150.0  mastercard  102.0  credit  ...   NaN   NaN   NaN   NaN   \n",
       "2987002        150.0        visa  166.0   debit  ...   NaN   NaN   NaN   NaN   \n",
       "2987003        150.0  mastercard  117.0   debit  ...   NaN   NaN   NaN   NaN   \n",
       "2987004        150.0  mastercard  102.0  credit  ...   0.0   0.0   0.0   0.0   \n",
       "2987005        150.0        visa  226.0   debit  ...   NaN   NaN   NaN   NaN   \n",
       "2987006        150.0        visa  166.0   debit  ...   NaN   NaN   NaN   NaN   \n",
       "2987007        150.0        visa  226.0   debit  ...   NaN   NaN   NaN   NaN   \n",
       "2987008        150.0        visa  226.0   debit  ...   0.0   0.0   0.0   0.0   \n",
       "2987009        150.0  mastercard  224.0   debit  ...   NaN   NaN   NaN   NaN   \n",
       "2987010        117.0  mastercard  134.0  credit  ...   NaN   NaN   NaN   NaN   \n",
       "2987011        185.0  mastercard  224.0   debit  ...   NaN   NaN   NaN   NaN   \n",
       "2987012        150.0        visa  226.0   debit  ...   NaN   NaN   NaN   NaN   \n",
       "2987013        150.0        visa  226.0   debit  ...   NaN   NaN   NaN   NaN   \n",
       "2987014        150.0        visa  226.0   debit  ...   NaN   NaN   NaN   NaN   \n",
       "2987015        150.0        visa  226.0   debit  ...   NaN   NaN   NaN   NaN   \n",
       "2987016        150.0        visa  226.0   debit  ...   0.0   0.0   0.0   0.0   \n",
       "2987017        150.0  mastercard  219.0  credit  ...   0.0   0.0   0.0   0.0   \n",
       "2987018        150.0        visa  166.0   debit  ...   NaN   NaN   NaN   NaN   \n",
       "2987019        150.0        visa  226.0   debit  ...   NaN   NaN   NaN   NaN   \n",
       "2987020        150.0  mastercard  224.0   debit  ...   NaN   NaN   NaN   NaN   \n",
       "2987021        150.0  mastercard  117.0   debit  ...   NaN   NaN   NaN   NaN   \n",
       "2987022        150.0        visa  226.0  credit  ...   0.0   0.0   0.0   0.0   \n",
       "2987023        150.0  mastercard  166.0   debit  ...   NaN   NaN   NaN   NaN   \n",
       "2987024        150.0        visa  166.0   debit  ...   NaN   NaN   NaN   NaN   \n",
       "2987025        150.0  mastercard  224.0   debit  ...   NaN   NaN   NaN   NaN   \n",
       "2987026        150.0        visa  226.0   debit  ...   NaN   NaN   NaN   NaN   \n",
       "2987027        150.0        visa  226.0   debit  ...   NaN   NaN   NaN   NaN   \n",
       "2987028        150.0  mastercard  224.0   debit  ...   NaN   NaN   NaN   NaN   \n",
       "2987029        150.0        visa  226.0   debit  ...   NaN   NaN   NaN   NaN   \n",
       "...              ...         ...    ...     ...  ...   ...   ...   ...   ...   \n",
       "3577510        150.0        visa  226.0   debit  ...   NaN   NaN   NaN   NaN   \n",
       "3577511        150.0        visa  226.0   debit  ...   NaN   NaN   NaN   NaN   \n",
       "3577512        150.0        visa  226.0  credit  ...   NaN   NaN   NaN   NaN   \n",
       "3577513        150.0        visa  166.0   debit  ...   NaN   NaN   NaN   NaN   \n",
       "3577514        150.0        visa  226.0   debit  ...   NaN   NaN   NaN   NaN   \n",
       "3577515        150.0        visa  226.0   debit  ...   NaN   NaN   NaN   NaN   \n",
       "3577516        150.0        visa  226.0   debit  ...   NaN   NaN   NaN   NaN   \n",
       "3577517        150.0        visa  226.0  credit  ...   NaN   NaN   NaN   NaN   \n",
       "3577518        150.0        visa  226.0   debit  ...   NaN   NaN   NaN   NaN   \n",
       "3577519        150.0  mastercard  117.0   debit  ...   NaN   NaN   NaN   NaN   \n",
       "3577520        150.0        visa  226.0   debit  ...   NaN   NaN   NaN   NaN   \n",
       "3577521        106.0  mastercard  224.0   debit  ...   NaN   NaN   NaN   NaN   \n",
       "3577522        150.0        visa  166.0   debit  ...   NaN   NaN   NaN   NaN   \n",
       "3577523        150.0  mastercard  117.0   debit  ...   NaN   NaN   NaN   NaN   \n",
       "3577524        150.0  mastercard  224.0   debit  ...   NaN   NaN   NaN   NaN   \n",
       "3577525        150.0        visa  226.0   debit  ...   NaN   NaN   NaN   NaN   \n",
       "3577526        150.0        visa  226.0  credit  ...   0.0   0.0   0.0   0.0   \n",
       "3577527        150.0        visa  226.0   debit  ...   NaN   NaN   NaN   NaN   \n",
       "3577528        150.0  mastercard  102.0  credit  ...   NaN   NaN   NaN   NaN   \n",
       "3577529        185.0  mastercard  137.0  credit  ...   NaN   NaN   NaN   NaN   \n",
       "3577530        150.0  mastercard  102.0  credit  ...   NaN   NaN   NaN   NaN   \n",
       "3577531        150.0        visa  226.0  credit  ...   0.0   0.0   0.0   0.0   \n",
       "3577532        150.0  mastercard  224.0   debit  ...   NaN   NaN   NaN   NaN   \n",
       "3577533        150.0        visa  226.0   debit  ...   NaN   NaN   NaN   NaN   \n",
       "3577534        185.0  mastercard  224.0   debit  ...   NaN   NaN   NaN   NaN   \n",
       "3577535        150.0        visa  226.0   debit  ...   NaN   NaN   NaN   NaN   \n",
       "3577536        150.0  mastercard  224.0   debit  ...   NaN   NaN   NaN   NaN   \n",
       "3577537        150.0  mastercard  224.0   debit  ...   NaN   NaN   NaN   NaN   \n",
       "3577538        150.0  mastercard  224.0   debit  ...   NaN   NaN   NaN   NaN   \n",
       "3577539        150.0  mastercard  102.0  credit  ...   NaN   NaN   NaN   NaN   \n",
       "\n",
       "              V334 V335  V336  V337  V338  V339  \n",
       "TransactionID                                    \n",
       "2987000        NaN  NaN   NaN   NaN   NaN   NaN  \n",
       "2987001        NaN  NaN   NaN   NaN   NaN   NaN  \n",
       "2987002        NaN  NaN   NaN   NaN   NaN   NaN  \n",
       "2987003        NaN  NaN   NaN   NaN   NaN   NaN  \n",
       "2987004        0.0  0.0   0.0   0.0   0.0   0.0  \n",
       "2987005        NaN  NaN   NaN   NaN   NaN   NaN  \n",
       "2987006        NaN  NaN   NaN   NaN   NaN   NaN  \n",
       "2987007        NaN  NaN   NaN   NaN   NaN   NaN  \n",
       "2987008        0.0  0.0   0.0   0.0   0.0   0.0  \n",
       "2987009        NaN  NaN   NaN   NaN   NaN   NaN  \n",
       "2987010        NaN  NaN   NaN   NaN   NaN   NaN  \n",
       "2987011        NaN  NaN   NaN   NaN   NaN   NaN  \n",
       "2987012        NaN  NaN   NaN   NaN   NaN   NaN  \n",
       "2987013        NaN  NaN   NaN   NaN   NaN   NaN  \n",
       "2987014        NaN  NaN   NaN   NaN   NaN   NaN  \n",
       "2987015        NaN  NaN   NaN   NaN   NaN   NaN  \n",
       "2987016        0.0  0.0   0.0   0.0   0.0   0.0  \n",
       "2987017        0.0  0.0   0.0   0.0   0.0   0.0  \n",
       "2987018        NaN  NaN   NaN   NaN   NaN   NaN  \n",
       "2987019        NaN  NaN   NaN   NaN   NaN   NaN  \n",
       "2987020        NaN  NaN   NaN   NaN   NaN   NaN  \n",
       "2987021        NaN  NaN   NaN   NaN   NaN   NaN  \n",
       "2987022        0.0  0.0   0.0   0.0   0.0   0.0  \n",
       "2987023        NaN  NaN   NaN   NaN   NaN   NaN  \n",
       "2987024        NaN  NaN   NaN   NaN   NaN   NaN  \n",
       "2987025        NaN  NaN   NaN   NaN   NaN   NaN  \n",
       "2987026        NaN  NaN   NaN   NaN   NaN   NaN  \n",
       "2987027        NaN  NaN   NaN   NaN   NaN   NaN  \n",
       "2987028        NaN  NaN   NaN   NaN   NaN   NaN  \n",
       "2987029        NaN  NaN   NaN   NaN   NaN   NaN  \n",
       "...            ...  ...   ...   ...   ...   ...  \n",
       "3577510        NaN  NaN   NaN   NaN   NaN   NaN  \n",
       "3577511        NaN  NaN   NaN   NaN   NaN   NaN  \n",
       "3577512        NaN  NaN   NaN   NaN   NaN   NaN  \n",
       "3577513        NaN  NaN   NaN   NaN   NaN   NaN  \n",
       "3577514        NaN  NaN   NaN   NaN   NaN   NaN  \n",
       "3577515        NaN  NaN   NaN   NaN   NaN   NaN  \n",
       "3577516        NaN  NaN   NaN   NaN   NaN   NaN  \n",
       "3577517        NaN  NaN   NaN   NaN   NaN   NaN  \n",
       "3577518        NaN  NaN   NaN   NaN   NaN   NaN  \n",
       "3577519        NaN  NaN   NaN   NaN   NaN   NaN  \n",
       "3577520        NaN  NaN   NaN   NaN   NaN   NaN  \n",
       "3577521        NaN  NaN   NaN   NaN   NaN   NaN  \n",
       "3577522        NaN  NaN   NaN   NaN   NaN   NaN  \n",
       "3577523        NaN  NaN   NaN   NaN   NaN   NaN  \n",
       "3577524        NaN  NaN   NaN   NaN   NaN   NaN  \n",
       "3577525        NaN  NaN   NaN   NaN   NaN   NaN  \n",
       "3577526        0.0  0.0   0.0   0.0   0.0   0.0  \n",
       "3577527        NaN  NaN   NaN   NaN   NaN   NaN  \n",
       "3577528        NaN  NaN   NaN   NaN   NaN   NaN  \n",
       "3577529        NaN  NaN   NaN   NaN   NaN   NaN  \n",
       "3577530        NaN  NaN   NaN   NaN   NaN   NaN  \n",
       "3577531        0.0  0.0   0.0   0.0   0.0   0.0  \n",
       "3577532        NaN  NaN   NaN   NaN   NaN   NaN  \n",
       "3577533        NaN  NaN   NaN   NaN   NaN   NaN  \n",
       "3577534        NaN  NaN   NaN   NaN   NaN   NaN  \n",
       "3577535        NaN  NaN   NaN   NaN   NaN   NaN  \n",
       "3577536        NaN  NaN   NaN   NaN   NaN   NaN  \n",
       "3577537        NaN  NaN   NaN   NaN   NaN   NaN  \n",
       "3577538        NaN  NaN   NaN   NaN   NaN   NaN  \n",
       "3577539        NaN  NaN   NaN   NaN   NaN   NaN  \n",
       "\n",
       "[590540 rows x 393 columns]>"
      ]
     },
     "execution_count": 8,
     "metadata": {},
     "output_type": "execute_result"
    }
   ],
   "source": [
    "df2.head"
   ]
  },
  {
   "cell_type": "code",
   "execution_count": 9,
   "metadata": {},
   "outputs": [
    {
     "data": {
      "text/plain": [
       "<bound method DataFrame.info of                isFraud  TransactionDT  TransactionAmt ProductCD  card1  card2  \\\n",
       "TransactionID                                                                   \n",
       "2987000              0          86400          68.500         W  13926    NaN   \n",
       "2987001              0          86401          29.000         W   2755  404.0   \n",
       "2987002              0          86469          59.000         W   4663  490.0   \n",
       "2987003              0          86499          50.000         W  18132  567.0   \n",
       "2987004              0          86506          50.000         H   4497  514.0   \n",
       "2987005              0          86510          49.000         W   5937  555.0   \n",
       "2987006              0          86522         159.000         W  12308  360.0   \n",
       "2987007              0          86529         422.500         W  12695  490.0   \n",
       "2987008              0          86535          15.000         H   2803  100.0   \n",
       "2987009              0          86536         117.000         W  17399  111.0   \n",
       "2987010              0          86549          75.887         C  16496  352.0   \n",
       "2987011              0          86555          16.495         C   4461  375.0   \n",
       "2987012              0          86564          50.000         W   3786  418.0   \n",
       "2987013              0          86585          40.000         W  12866  303.0   \n",
       "2987014              0          86596          10.500         W  11839  490.0   \n",
       "2987015              0          86618          57.950         W   7055  555.0   \n",
       "2987016              0          86620          30.000         H   1790  555.0   \n",
       "2987017              0          86668         100.000         H  11492  111.0   \n",
       "2987018              0          86725          47.950         W   4663  490.0   \n",
       "2987019              0          86730         186.000         W   7005  111.0   \n",
       "2987020              0          86761          39.000         W   7875  314.0   \n",
       "2987021              0          86769         159.950         W  11401  543.0   \n",
       "2987022              0          86786          50.000         H   1724  583.0   \n",
       "2987023              0          86808         107.950         W   2392  360.0   \n",
       "2987024              0          86821          73.950         W  10112  360.0   \n",
       "2987025              0          86944         107.950         W  15385  111.0   \n",
       "2987026              0          86945         184.000         W  17868  148.0   \n",
       "2987027              0          86972          47.950         W  11307  321.0   \n",
       "2987028              0          86973          20.000         W   8431  269.0   \n",
       "2987029              0          86979          36.990         W  12932  361.0   \n",
       "...                ...            ...             ...       ...    ...    ...   \n",
       "3577510              0       15810518          24.500         W   9500  321.0   \n",
       "3577511              0       15810549         130.950         W  12059  555.0   \n",
       "3577512              0       15810563         764.000         W  16873  343.0   \n",
       "3577513              0       15810575         107.950         W   2198  555.0   \n",
       "3577514              0       15810578         159.950         W   2487  555.0   \n",
       "3577515              0       15810589         108.500         W   4219  321.0   \n",
       "3577516              0       15810592         760.760         W  17188  321.0   \n",
       "3577517              0       15810626         764.000         W  16873  343.0   \n",
       "3577518              0       15810760          49.000         W  11204  298.0   \n",
       "3577519              0       15810774        1659.950         W  18018  452.0   \n",
       "3577520              0       15810785          93.000         W  17150  292.0   \n",
       "3577521              0       15810802          48.877         C  12019  305.0   \n",
       "3577522              0       15810823          54.500         W   3166  559.0   \n",
       "3577523              0       15810833          58.950         W  13076  456.0   \n",
       "3577524              0       15810836          75.000         W   7826  481.0   \n",
       "3577525              0       15810866          57.950         W  11942  570.0   \n",
       "3577526              1       15810876         250.000         R   1214  174.0   \n",
       "3577527              0       15810883         189.950         W   6453  555.0   \n",
       "3577528              0       15810907         279.950         W  15066  170.0   \n",
       "3577529              0       15810912          73.838         C   5096  555.0   \n",
       "3577530              0       15810926         400.780         W  15066  170.0   \n",
       "3577531              0       15810935         400.000         R   6019  583.0   \n",
       "3577532              0       15811007         204.970         W  12037  595.0   \n",
       "3577533              0       15811029         107.950         W  13071  321.0   \n",
       "3577534              0       15811030          67.505         C   5812  408.0   \n",
       "3577535              0       15811047          49.000         W   6550    NaN   \n",
       "3577536              0       15811049          39.500         W  10444  225.0   \n",
       "3577537              0       15811079          30.950         W  12037  595.0   \n",
       "3577538              0       15811088         117.000         W   7826  481.0   \n",
       "3577539              0       15811131         279.950         W  15066  170.0   \n",
       "\n",
       "               card3       card4  card5   card6  ...  V330  V331  V332  V333  \\\n",
       "TransactionID                                    ...                           \n",
       "2987000        150.0    discover  142.0  credit  ...   NaN   NaN   NaN   NaN   \n",
       "2987001        150.0  mastercard  102.0  credit  ...   NaN   NaN   NaN   NaN   \n",
       "2987002        150.0        visa  166.0   debit  ...   NaN   NaN   NaN   NaN   \n",
       "2987003        150.0  mastercard  117.0   debit  ...   NaN   NaN   NaN   NaN   \n",
       "2987004        150.0  mastercard  102.0  credit  ...   0.0   0.0   0.0   0.0   \n",
       "2987005        150.0        visa  226.0   debit  ...   NaN   NaN   NaN   NaN   \n",
       "2987006        150.0        visa  166.0   debit  ...   NaN   NaN   NaN   NaN   \n",
       "2987007        150.0        visa  226.0   debit  ...   NaN   NaN   NaN   NaN   \n",
       "2987008        150.0        visa  226.0   debit  ...   0.0   0.0   0.0   0.0   \n",
       "2987009        150.0  mastercard  224.0   debit  ...   NaN   NaN   NaN   NaN   \n",
       "2987010        117.0  mastercard  134.0  credit  ...   NaN   NaN   NaN   NaN   \n",
       "2987011        185.0  mastercard  224.0   debit  ...   NaN   NaN   NaN   NaN   \n",
       "2987012        150.0        visa  226.0   debit  ...   NaN   NaN   NaN   NaN   \n",
       "2987013        150.0        visa  226.0   debit  ...   NaN   NaN   NaN   NaN   \n",
       "2987014        150.0        visa  226.0   debit  ...   NaN   NaN   NaN   NaN   \n",
       "2987015        150.0        visa  226.0   debit  ...   NaN   NaN   NaN   NaN   \n",
       "2987016        150.0        visa  226.0   debit  ...   0.0   0.0   0.0   0.0   \n",
       "2987017        150.0  mastercard  219.0  credit  ...   0.0   0.0   0.0   0.0   \n",
       "2987018        150.0        visa  166.0   debit  ...   NaN   NaN   NaN   NaN   \n",
       "2987019        150.0        visa  226.0   debit  ...   NaN   NaN   NaN   NaN   \n",
       "2987020        150.0  mastercard  224.0   debit  ...   NaN   NaN   NaN   NaN   \n",
       "2987021        150.0  mastercard  117.0   debit  ...   NaN   NaN   NaN   NaN   \n",
       "2987022        150.0        visa  226.0  credit  ...   0.0   0.0   0.0   0.0   \n",
       "2987023        150.0  mastercard  166.0   debit  ...   NaN   NaN   NaN   NaN   \n",
       "2987024        150.0        visa  166.0   debit  ...   NaN   NaN   NaN   NaN   \n",
       "2987025        150.0  mastercard  224.0   debit  ...   NaN   NaN   NaN   NaN   \n",
       "2987026        150.0        visa  226.0   debit  ...   NaN   NaN   NaN   NaN   \n",
       "2987027        150.0        visa  226.0   debit  ...   NaN   NaN   NaN   NaN   \n",
       "2987028        150.0  mastercard  224.0   debit  ...   NaN   NaN   NaN   NaN   \n",
       "2987029        150.0        visa  226.0   debit  ...   NaN   NaN   NaN   NaN   \n",
       "...              ...         ...    ...     ...  ...   ...   ...   ...   ...   \n",
       "3577510        150.0        visa  226.0   debit  ...   NaN   NaN   NaN   NaN   \n",
       "3577511        150.0        visa  226.0   debit  ...   NaN   NaN   NaN   NaN   \n",
       "3577512        150.0        visa  226.0  credit  ...   NaN   NaN   NaN   NaN   \n",
       "3577513        150.0        visa  166.0   debit  ...   NaN   NaN   NaN   NaN   \n",
       "3577514        150.0        visa  226.0   debit  ...   NaN   NaN   NaN   NaN   \n",
       "3577515        150.0        visa  226.0   debit  ...   NaN   NaN   NaN   NaN   \n",
       "3577516        150.0        visa  226.0   debit  ...   NaN   NaN   NaN   NaN   \n",
       "3577517        150.0        visa  226.0  credit  ...   NaN   NaN   NaN   NaN   \n",
       "3577518        150.0        visa  226.0   debit  ...   NaN   NaN   NaN   NaN   \n",
       "3577519        150.0  mastercard  117.0   debit  ...   NaN   NaN   NaN   NaN   \n",
       "3577520        150.0        visa  226.0   debit  ...   NaN   NaN   NaN   NaN   \n",
       "3577521        106.0  mastercard  224.0   debit  ...   NaN   NaN   NaN   NaN   \n",
       "3577522        150.0        visa  166.0   debit  ...   NaN   NaN   NaN   NaN   \n",
       "3577523        150.0  mastercard  117.0   debit  ...   NaN   NaN   NaN   NaN   \n",
       "3577524        150.0  mastercard  224.0   debit  ...   NaN   NaN   NaN   NaN   \n",
       "3577525        150.0        visa  226.0   debit  ...   NaN   NaN   NaN   NaN   \n",
       "3577526        150.0        visa  226.0  credit  ...   0.0   0.0   0.0   0.0   \n",
       "3577527        150.0        visa  226.0   debit  ...   NaN   NaN   NaN   NaN   \n",
       "3577528        150.0  mastercard  102.0  credit  ...   NaN   NaN   NaN   NaN   \n",
       "3577529        185.0  mastercard  137.0  credit  ...   NaN   NaN   NaN   NaN   \n",
       "3577530        150.0  mastercard  102.0  credit  ...   NaN   NaN   NaN   NaN   \n",
       "3577531        150.0        visa  226.0  credit  ...   0.0   0.0   0.0   0.0   \n",
       "3577532        150.0  mastercard  224.0   debit  ...   NaN   NaN   NaN   NaN   \n",
       "3577533        150.0        visa  226.0   debit  ...   NaN   NaN   NaN   NaN   \n",
       "3577534        185.0  mastercard  224.0   debit  ...   NaN   NaN   NaN   NaN   \n",
       "3577535        150.0        visa  226.0   debit  ...   NaN   NaN   NaN   NaN   \n",
       "3577536        150.0  mastercard  224.0   debit  ...   NaN   NaN   NaN   NaN   \n",
       "3577537        150.0  mastercard  224.0   debit  ...   NaN   NaN   NaN   NaN   \n",
       "3577538        150.0  mastercard  224.0   debit  ...   NaN   NaN   NaN   NaN   \n",
       "3577539        150.0  mastercard  102.0  credit  ...   NaN   NaN   NaN   NaN   \n",
       "\n",
       "              V334 V335  V336  V337  V338  V339  \n",
       "TransactionID                                    \n",
       "2987000        NaN  NaN   NaN   NaN   NaN   NaN  \n",
       "2987001        NaN  NaN   NaN   NaN   NaN   NaN  \n",
       "2987002        NaN  NaN   NaN   NaN   NaN   NaN  \n",
       "2987003        NaN  NaN   NaN   NaN   NaN   NaN  \n",
       "2987004        0.0  0.0   0.0   0.0   0.0   0.0  \n",
       "2987005        NaN  NaN   NaN   NaN   NaN   NaN  \n",
       "2987006        NaN  NaN   NaN   NaN   NaN   NaN  \n",
       "2987007        NaN  NaN   NaN   NaN   NaN   NaN  \n",
       "2987008        0.0  0.0   0.0   0.0   0.0   0.0  \n",
       "2987009        NaN  NaN   NaN   NaN   NaN   NaN  \n",
       "2987010        NaN  NaN   NaN   NaN   NaN   NaN  \n",
       "2987011        NaN  NaN   NaN   NaN   NaN   NaN  \n",
       "2987012        NaN  NaN   NaN   NaN   NaN   NaN  \n",
       "2987013        NaN  NaN   NaN   NaN   NaN   NaN  \n",
       "2987014        NaN  NaN   NaN   NaN   NaN   NaN  \n",
       "2987015        NaN  NaN   NaN   NaN   NaN   NaN  \n",
       "2987016        0.0  0.0   0.0   0.0   0.0   0.0  \n",
       "2987017        0.0  0.0   0.0   0.0   0.0   0.0  \n",
       "2987018        NaN  NaN   NaN   NaN   NaN   NaN  \n",
       "2987019        NaN  NaN   NaN   NaN   NaN   NaN  \n",
       "2987020        NaN  NaN   NaN   NaN   NaN   NaN  \n",
       "2987021        NaN  NaN   NaN   NaN   NaN   NaN  \n",
       "2987022        0.0  0.0   0.0   0.0   0.0   0.0  \n",
       "2987023        NaN  NaN   NaN   NaN   NaN   NaN  \n",
       "2987024        NaN  NaN   NaN   NaN   NaN   NaN  \n",
       "2987025        NaN  NaN   NaN   NaN   NaN   NaN  \n",
       "2987026        NaN  NaN   NaN   NaN   NaN   NaN  \n",
       "2987027        NaN  NaN   NaN   NaN   NaN   NaN  \n",
       "2987028        NaN  NaN   NaN   NaN   NaN   NaN  \n",
       "2987029        NaN  NaN   NaN   NaN   NaN   NaN  \n",
       "...            ...  ...   ...   ...   ...   ...  \n",
       "3577510        NaN  NaN   NaN   NaN   NaN   NaN  \n",
       "3577511        NaN  NaN   NaN   NaN   NaN   NaN  \n",
       "3577512        NaN  NaN   NaN   NaN   NaN   NaN  \n",
       "3577513        NaN  NaN   NaN   NaN   NaN   NaN  \n",
       "3577514        NaN  NaN   NaN   NaN   NaN   NaN  \n",
       "3577515        NaN  NaN   NaN   NaN   NaN   NaN  \n",
       "3577516        NaN  NaN   NaN   NaN   NaN   NaN  \n",
       "3577517        NaN  NaN   NaN   NaN   NaN   NaN  \n",
       "3577518        NaN  NaN   NaN   NaN   NaN   NaN  \n",
       "3577519        NaN  NaN   NaN   NaN   NaN   NaN  \n",
       "3577520        NaN  NaN   NaN   NaN   NaN   NaN  \n",
       "3577521        NaN  NaN   NaN   NaN   NaN   NaN  \n",
       "3577522        NaN  NaN   NaN   NaN   NaN   NaN  \n",
       "3577523        NaN  NaN   NaN   NaN   NaN   NaN  \n",
       "3577524        NaN  NaN   NaN   NaN   NaN   NaN  \n",
       "3577525        NaN  NaN   NaN   NaN   NaN   NaN  \n",
       "3577526        0.0  0.0   0.0   0.0   0.0   0.0  \n",
       "3577527        NaN  NaN   NaN   NaN   NaN   NaN  \n",
       "3577528        NaN  NaN   NaN   NaN   NaN   NaN  \n",
       "3577529        NaN  NaN   NaN   NaN   NaN   NaN  \n",
       "3577530        NaN  NaN   NaN   NaN   NaN   NaN  \n",
       "3577531        0.0  0.0   0.0   0.0   0.0   0.0  \n",
       "3577532        NaN  NaN   NaN   NaN   NaN   NaN  \n",
       "3577533        NaN  NaN   NaN   NaN   NaN   NaN  \n",
       "3577534        NaN  NaN   NaN   NaN   NaN   NaN  \n",
       "3577535        NaN  NaN   NaN   NaN   NaN   NaN  \n",
       "3577536        NaN  NaN   NaN   NaN   NaN   NaN  \n",
       "3577537        NaN  NaN   NaN   NaN   NaN   NaN  \n",
       "3577538        NaN  NaN   NaN   NaN   NaN   NaN  \n",
       "3577539        NaN  NaN   NaN   NaN   NaN   NaN  \n",
       "\n",
       "[590540 rows x 393 columns]>"
      ]
     },
     "execution_count": 9,
     "metadata": {},
     "output_type": "execute_result"
    }
   ],
   "source": [
    "df2.info"
   ]
  },
  {
   "cell_type": "code",
   "execution_count": 10,
   "metadata": {},
   "outputs": [
    {
     "data": {
      "text/plain": [
       "isFraud                0\n",
       "TransactionDT          0\n",
       "TransactionAmt         0\n",
       "ProductCD              0\n",
       "card1                  0\n",
       "card2               8933\n",
       "card3               1565\n",
       "card4               1577\n",
       "card5               4259\n",
       "card6               1571\n",
       "addr1              65706\n",
       "addr2              65706\n",
       "dist1             352271\n",
       "dist2             552913\n",
       "P_emaildomain      94456\n",
       "R_emaildomain     453249\n",
       "C1                     0\n",
       "C2                     0\n",
       "C3                     0\n",
       "C4                     0\n",
       "C5                     0\n",
       "C6                     0\n",
       "C7                     0\n",
       "C8                     0\n",
       "C9                     0\n",
       "C10                    0\n",
       "C11                    0\n",
       "C12                    0\n",
       "C13                    0\n",
       "C14                    0\n",
       "                   ...  \n",
       "V310                  12\n",
       "V311                  12\n",
       "V312                  12\n",
       "V313                1269\n",
       "V314                1269\n",
       "V315                1269\n",
       "V316                  12\n",
       "V317                  12\n",
       "V318                  12\n",
       "V319                  12\n",
       "V320                  12\n",
       "V321                  12\n",
       "V322              508189\n",
       "V323              508189\n",
       "V324              508189\n",
       "V325              508189\n",
       "V326              508189\n",
       "V327              508189\n",
       "V328              508189\n",
       "V329              508189\n",
       "V330              508189\n",
       "V331              508189\n",
       "V332              508189\n",
       "V333              508189\n",
       "V334              508189\n",
       "V335              508189\n",
       "V336              508189\n",
       "V337              508189\n",
       "V338              508189\n",
       "V339              508189\n",
       "Length: 393, dtype: int64"
      ]
     },
     "execution_count": 10,
     "metadata": {},
     "output_type": "execute_result"
    }
   ],
   "source": [
    "df2.isnull().sum(axis=0)"
   ]
  },
  {
   "cell_type": "code",
   "execution_count": 11,
   "metadata": {},
   "outputs": [
    {
     "data": {
      "text/plain": [
       "(590540, 393)"
      ]
     },
     "execution_count": 11,
     "metadata": {},
     "output_type": "execute_result"
    }
   ],
   "source": [
    "df2.shape"
   ]
  },
  {
   "cell_type": "code",
   "execution_count": 12,
   "metadata": {},
   "outputs": [],
   "source": [
    "df1i = df1.index\n",
    "df2i = df2.index"
   ]
  },
  {
   "cell_type": "markdown",
   "metadata": {},
   "source": [
    "### Checking if the index we created is unique.\n",
    "### And then checking which data is subset of the other, if at all."
   ]
  },
  {
   "cell_type": "code",
   "execution_count": 37,
   "metadata": {},
   "outputs": [
    {
     "data": {
      "text/plain": [
       "True"
      ]
     },
     "execution_count": 37,
     "metadata": {},
     "output_type": "execute_result"
    }
   ],
   "source": [
    "# tests to check if the index is unique\n",
    "df1i.is_unique"
   ]
  },
  {
   "cell_type": "code",
   "execution_count": 38,
   "metadata": {},
   "outputs": [
    {
     "data": {
      "text/plain": [
       "True"
      ]
     },
     "execution_count": 38,
     "metadata": {},
     "output_type": "execute_result"
    }
   ],
   "source": [
    "# tests to check if the index is unique\n",
    "df2i.is_unique"
   ]
  },
  {
   "cell_type": "code",
   "execution_count": 15,
   "metadata": {},
   "outputs": [
    {
     "data": {
      "text/html": [
       "<div>\n",
       "<style scoped>\n",
       "    .dataframe tbody tr th:only-of-type {\n",
       "        vertical-align: middle;\n",
       "    }\n",
       "\n",
       "    .dataframe tbody tr th {\n",
       "        vertical-align: top;\n",
       "    }\n",
       "\n",
       "    .dataframe thead th {\n",
       "        text-align: right;\n",
       "    }\n",
       "</style>\n",
       "<table border=\"1\" class=\"dataframe\">\n",
       "  <thead>\n",
       "    <tr style=\"text-align: right;\">\n",
       "      <th></th>\n",
       "      <th>id_01</th>\n",
       "      <th>id_02</th>\n",
       "      <th>id_03</th>\n",
       "      <th>id_04</th>\n",
       "      <th>id_05</th>\n",
       "      <th>id_06</th>\n",
       "      <th>id_07</th>\n",
       "      <th>id_08</th>\n",
       "      <th>id_09</th>\n",
       "      <th>id_10</th>\n",
       "      <th>...</th>\n",
       "      <th>id_31</th>\n",
       "      <th>id_32</th>\n",
       "      <th>id_33</th>\n",
       "      <th>id_34</th>\n",
       "      <th>id_35</th>\n",
       "      <th>id_36</th>\n",
       "      <th>id_37</th>\n",
       "      <th>id_38</th>\n",
       "      <th>DeviceType</th>\n",
       "      <th>DeviceInfo</th>\n",
       "    </tr>\n",
       "    <tr>\n",
       "      <th>TransactionID</th>\n",
       "      <th></th>\n",
       "      <th></th>\n",
       "      <th></th>\n",
       "      <th></th>\n",
       "      <th></th>\n",
       "      <th></th>\n",
       "      <th></th>\n",
       "      <th></th>\n",
       "      <th></th>\n",
       "      <th></th>\n",
       "      <th></th>\n",
       "      <th></th>\n",
       "      <th></th>\n",
       "      <th></th>\n",
       "      <th></th>\n",
       "      <th></th>\n",
       "      <th></th>\n",
       "      <th></th>\n",
       "      <th></th>\n",
       "      <th></th>\n",
       "      <th></th>\n",
       "    </tr>\n",
       "  </thead>\n",
       "  <tbody>\n",
       "  </tbody>\n",
       "</table>\n",
       "<p>0 rows × 40 columns</p>\n",
       "</div>"
      ],
      "text/plain": [
       "Empty DataFrame\n",
       "Columns: [id_01, id_02, id_03, id_04, id_05, id_06, id_07, id_08, id_09, id_10, id_11, id_12, id_13, id_14, id_15, id_16, id_17, id_18, id_19, id_20, id_21, id_22, id_23, id_24, id_25, id_26, id_27, id_28, id_29, id_30, id_31, id_32, id_33, id_34, id_35, id_36, id_37, id_38, DeviceType, DeviceInfo]\n",
       "Index: []\n",
       "\n",
       "[0 rows x 40 columns]"
      ]
     },
     "execution_count": 15,
     "metadata": {},
     "output_type": "execute_result"
    }
   ],
   "source": [
    "# If this returns 0 rows df1 is a total subset of df2.\n",
    "df1[~df1.index.isin(df2.index)]"
   ]
  },
  {
   "cell_type": "code",
   "execution_count": 16,
   "metadata": {},
   "outputs": [
    {
     "data": {
      "text/plain": [
       "(446307, 393)"
      ]
     },
     "execution_count": 16,
     "metadata": {},
     "output_type": "execute_result"
    }
   ],
   "source": [
    "# These are indices in df2 and not in df1.\n",
    "df2[~df2.index.isin(df1.index)].shape"
   ]
  },
  {
   "cell_type": "markdown",
   "metadata": {},
   "source": [
    "### Validation of the above command.\n",
    "### This should throw a KeyError because this index should be missing in df1 but available in df2.\n",
    "\n",
    "df1.loc[2987001]\n"
   ]
  },
  {
   "cell_type": "code",
   "execution_count": 18,
   "metadata": {},
   "outputs": [],
   "source": [
    "df1['isFraud'] = df2['isFraud']  #Add isFraud label to the identity DF"
   ]
  },
  {
   "cell_type": "code",
   "execution_count": 19,
   "metadata": {},
   "outputs": [],
   "source": [
    "#How many items in df1 & df2 are fraud\n",
    "df1_fraudRatio = df1[df1['isFraud'] == 1].shape[0]/df1.shape[0] #ratio of fraud to total items in identity DF\n",
    "df2_fraudRatio = df2[df2['isFraud'] == 1].shape[0]/df2.shape[0] #ratio of fraud to total items in all transactions DF"
   ]
  },
  {
   "cell_type": "code",
   "execution_count": 20,
   "metadata": {},
   "outputs": [
    {
     "data": {
      "text/plain": [
       "0.07847025299342036"
      ]
     },
     "execution_count": 20,
     "metadata": {},
     "output_type": "execute_result"
    }
   ],
   "source": [
    "df1_fraudRatio"
   ]
  },
  {
   "cell_type": "code",
   "execution_count": 21,
   "metadata": {},
   "outputs": [
    {
     "data": {
      "text/plain": [
       "0.03499000914417313"
      ]
     },
     "execution_count": 21,
     "metadata": {},
     "output_type": "execute_result"
    }
   ],
   "source": [
    "df2_fraudRatio"
   ]
  },
  {
   "cell_type": "markdown",
   "metadata": {},
   "source": [
    "# Looking into DF1 (Identity data)\n",
    "## For each column: Look for intersection between NaN and isFraud. How many isFraud for colN==NaN? Betweeb colN == NaN and isFraud sets, is one a subset of the other.\n",
    "### is there a point in doing this kind of EDA?"
   ]
  },
  {
   "cell_type": "markdown",
   "metadata": {},
   "source": [
    "P = set(df1.index[df1['isFraud'] == 1].tolist())\n",
    "colchk = 'id_24'\n",
    "Q = set(df1.index[df1[colchk].apply(np.isnan)].tolist())"
   ]
  },
  {
   "cell_type": "markdown",
   "metadata": {},
   "source": [
    "%matplotlib inline\n",
    "plt.title('Intersection of Null {} and FRAUD cases'.format(colchk))\n",
    "venn2([P,Q],set_labels=('Null_{}'.format(colchk),'isFraud'))"
   ]
  },
  {
   "cell_type": "markdown",
   "metadata": {},
   "source": [
    "#Intersection of null values amongst a couple of features."
   ]
  },
  {
   "cell_type": "markdown",
   "metadata": {},
   "source": [
    "colchka = 'id_24'\n",
    "colchkb = 'id_19'\n",
    "R = set(df1.index[df1[colchka].apply(np.isnan)].tolist())\n",
    "S = set(df1.index[df1[colchkb].apply(np.isnan)].tolist())\n",
    "venn2([R,S],set_labels=('Null_{}'.format(colchka),'Null_{}'.format(colchkb)))"
   ]
  },
  {
   "cell_type": "code",
   "execution_count": 36,
   "metadata": {},
   "outputs": [
    {
     "data": {
      "image/png": "[encoded data removed]",
      "text/plain": [
       "<Figure size 432x288 with 1 Axes>"
      ]
     },
     "metadata": {},
     "output_type": "display_data"
    },
    {
     "data": {
      "image/png": "[encoded data removed]",
      "text/plain": [
       "<Figure size 432x288 with 1 Axes>"
      ]
     },
     "metadata": {},
     "output_type": "display_data"
    },
    {
     "data": {
      "image/png": "[encoded data removed]",
      "text/plain": [
       "<Figure size 432x288 with 1 Axes>"
      ]
     },
     "metadata": {},
     "output_type": "display_data"
    },
    {
     "data": {
      "image/png": "[encoded data removed]",
      "text/plain": [
       "<Figure size 432x288 with 1 Axes>"
      ]
     },
     "metadata": {},
     "output_type": "display_data"
    },
    {
     "data": {
      "image/png": "[encoded data removed]",
      "text/plain": [
       "<Figure size 432x288 with 1 Axes>"
      ]
     },
     "metadata": {},
     "output_type": "display_data"
    },
    {
     "data": {
      "image/png": "[encoded data removed]",
      "text/plain": [
       "<Figure size 432x288 with 1 Axes>"
      ]
     },
     "metadata": {},
     "output_type": "display_data"
    },
    {
     "data": {
      "image/png": "[encoded data removed]",
      "text/plain": [
       "<Figure size 432x288 with 1 Axes>"
      ]
     },
     "metadata": {},
     "output_type": "display_data"
    },
    {
     "data": {
      "image/png": "[encoded data removed]",
      "text/plain": [
       "<Figure size 432x288 with 1 Axes>"
      ]
     },
     "metadata": {},
     "output_type": "display_data"
    },
    {
     "data": {
      "image/png": "[encoded data removed]",
      "text/plain": [
       "<Figure size 432x288 with 1 Axes>"
      ]
     },
     "metadata": {},
     "output_type": "display_data"
    },
    {
     "data": {
      "image/png": "[encoded data removed]",
      "text/plain": [
       "<Figure size 432x288 with 1 Axes>"
      ]
     },
     "metadata": {},
     "output_type": "display_data"
    },
    {
     "data": {
      "image/png": "[encoded data removed]",
      "text/plain": [
       "<Figure size 432x288 with 1 Axes>"
      ]
     },
     "metadata": {},
     "output_type": "display_data"
    },
    {
     "name": "stdout",
     "output_type": "stream",
     "text": [
      "TypeError caught on id_12\n"
     ]
    },
    {
     "data": {
      "image/png": "[encoded data removed]",
      "text/plain": [
       "<Figure size 432x288 with 1 Axes>"
      ]
     },
     "metadata": {},
     "output_type": "display_data"
    },
    {
     "data": {
      "image/png": "[encoded data removed]",
      "text/plain": [
       "<Figure size 432x288 with 1 Axes>"
      ]
     },
     "metadata": {},
     "output_type": "display_data"
    },
    {
     "name": "stdout",
     "output_type": "stream",
     "text": [
      "TypeError caught on id_15\n",
      "TypeError caught on id_16\n"
     ]
    },
    {
     "data": {
      "image/png": "[encoded data removed]",
      "text/plain": [
       "<Figure size 432x288 with 1 Axes>"
      ]
     },
     "metadata": {},
     "output_type": "display_data"
    },
    {
     "data": {
      "image/png": "[encoded data removed]",
      "text/plain": [
       "<Figure size 432x288 with 1 Axes>"
      ]
     },
     "metadata": {},
     "output_type": "display_data"
    },
    {
     "data": {
      "image/png": "[encoded data removed]",
      "text/plain": [
       "<Figure size 432x288 with 1 Axes>"
      ]
     },
     "metadata": {},
     "output_type": "display_data"
    },
    {
     "data": {
      "image/png": "[encoded data removed]",
      "text/plain": [
       "<Figure size 432x288 with 1 Axes>"
      ]
     },
     "metadata": {},
     "output_type": "display_data"
    },
    {
     "data": {
      "image/png": "[encoded data removed]",
      "text/plain": [
       "<Figure size 432x288 with 1 Axes>"
      ]
     },
     "metadata": {},
     "output_type": "display_data"
    },
    {
     "data": {
      "image/png": "[encoded data removed]",
      "text/plain": [
       "<Figure size 432x288 with 1 Axes>"
      ]
     },
     "metadata": {},
     "output_type": "display_data"
    },
    {
     "name": "stdout",
     "output_type": "stream",
     "text": [
      "TypeError caught on id_23\n"
     ]
    },
    {
     "data": {
      "image/png": "[encoded data removed]",
      "text/plain": [
       "<Figure size 432x288 with 1 Axes>"
      ]
     },
     "metadata": {},
     "output_type": "display_data"
    },
    {
     "data": {
      "image/png": "[encoded data removed]",
      "text/plain": [
       "<Figure size 432x288 with 1 Axes>"
      ]
     },
     "metadata": {},
     "output_type": "display_data"
    },
    {
     "data": {
      "image/png": "[encoded data removed]",
      "text/plain": [
       "<Figure size 432x288 with 1 Axes>"
      ]
     },
     "metadata": {},
     "output_type": "display_data"
    },
    {
     "name": "stdout",
     "output_type": "stream",
     "text": [
      "TypeError caught on id_27\n",
      "TypeError caught on id_28\n",
      "TypeError caught on id_29\n",
      "TypeError caught on id_30\n",
      "TypeError caught on id_31\n"
     ]
    },
    {
     "data": {
      "image/png": "[encoded data removed]",
      "text/plain": [
       "<Figure size 432x288 with 1 Axes>"
      ]
     },
     "metadata": {},
     "output_type": "display_data"
    },
    {
     "name": "stdout",
     "output_type": "stream",
     "text": [
      "TypeError caught on id_33\n",
      "TypeError caught on id_34\n",
      "TypeError caught on id_35\n",
      "TypeError caught on id_36\n",
      "TypeError caught on id_37\n",
      "TypeError caught on id_38\n",
      "TypeError caught on DeviceType\n",
      "TypeError caught on DeviceInfo\n"
     ]
    },
    {
     "data": {
      "image/png": "[encoded data removed]",
      "text/plain": [
       "<Figure size 432x288 with 1 Axes>"
      ]
     },
     "metadata": {},
     "output_type": "display_data"
    }
   ],
   "source": [
    "for colchk in df1.columns:\n",
    "    try:\n",
    "        venn2([set(df1.index[df1['isFraud'] == 1].tolist()),set(df1.index[df1[colchk].apply(np.isnan)].tolist())],set_labels=('Null_{}'.format(colchk),'isFraud'))\n",
    "        plt.show()\n",
    "    except (TypeError):\n",
    "        # isnan is not working on some columns. \n",
    "        # just passing them by for now.. Perhaps we need to re-cast those items\n",
    "        # as NaNs? Or is there a value in \"NotFound\" ??\n",
    "        print('TypeError caught on {}'.format(colchk))"
   ]
  },
  {
   "cell_type": "code",
   "execution_count": null,
   "metadata": {},
   "outputs": [],
   "source": []
  }
 ],
 "metadata": {
  "kernelspec": {
   "display_name": "Python 3",
   "language": "python",
   "name": "python3"
  },
  "language_info": {
   "codemirror_mode": {
    "name": "ipython",
    "version": 3
   },
   "file_extension": ".py",
   "mimetype": "text/x-python",
   "name": "python",
   "nbconvert_exporter": "python",
   "pygments_lexer": "ipython3",
   "version": "3.7.3"
  }
 },
 "nbformat": 4,
 "nbformat_minor": 2
}
